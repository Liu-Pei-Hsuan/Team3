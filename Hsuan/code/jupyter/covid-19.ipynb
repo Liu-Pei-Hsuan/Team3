{
 "cells": [
  {
   "cell_type": "code",
   "execution_count": 1,
   "id": "0e56d70c",
   "metadata": {
    "ExecuteTime": {
     "end_time": "2021-12-15T06:23:35.096436Z",
     "start_time": "2021-12-15T06:23:34.275356Z"
    }
   },
   "outputs": [],
   "source": [
    "import requests\n",
    "import pandas as pd"
   ]
  },
  {
   "cell_type": "code",
   "execution_count": 43,
   "id": "2b91c258",
   "metadata": {
    "ExecuteTime": {
     "end_time": "2021-12-15T06:46:29.133891Z",
     "start_time": "2021-12-15T06:46:28.819166Z"
    }
   },
   "outputs": [],
   "source": [
    "response = requests.get(\"https://covid-19.nchc.org.tw/api/covid19?CK=covid-19@nchc.org.tw&querydata=4001&limited=TWN\")\n",
    "date = response.json()[0][\"a04\"]\n",
    "total = response.json()[0][\"a05\"]\n",
    "count = response.json()[0][\"a06\"]"
   ]
  },
  {
   "cell_type": "code",
   "execution_count": 44,
   "id": "0b39de72",
   "metadata": {
    "ExecuteTime": {
     "end_time": "2021-12-15T06:46:30.738228Z",
     "start_time": "2021-12-15T06:46:30.733610Z"
    }
   },
   "outputs": [
    {
     "data": {
      "text/plain": [
       "'2021-12-14'"
      ]
     },
     "execution_count": 44,
     "metadata": {},
     "output_type": "execute_result"
    }
   ],
   "source": [
    "date"
   ]
  },
  {
   "cell_type": "code",
   "execution_count": 45,
   "id": "b3f4913f",
   "metadata": {
    "ExecuteTime": {
     "end_time": "2021-12-15T06:46:32.002158Z",
     "start_time": "2021-12-15T06:46:31.996839Z"
    }
   },
   "outputs": [
    {
     "data": {
      "text/plain": [
       "'16752'"
      ]
     },
     "execution_count": 45,
     "metadata": {},
     "output_type": "execute_result"
    }
   ],
   "source": [
    "total"
   ]
  },
  {
   "cell_type": "code",
   "execution_count": 46,
   "id": "dae8d5b6",
   "metadata": {
    "ExecuteTime": {
     "end_time": "2021-12-15T06:46:35.324191Z",
     "start_time": "2021-12-15T06:46:35.316789Z"
    },
    "scrolled": true
   },
   "outputs": [
    {
     "data": {
      "text/plain": [
       "'10'"
      ]
     },
     "execution_count": 46,
     "metadata": {},
     "output_type": "execute_result"
    }
   ],
   "source": [
    "count"
   ]
  }
 ],
 "metadata": {
  "kernelspec": {
   "display_name": "Python 3",
   "language": "python",
   "name": "python3"
  },
  "language_info": {
   "codemirror_mode": {
    "name": "ipython",
    "version": 3
   },
   "file_extension": ".py",
   "mimetype": "text/x-python",
   "name": "python",
   "nbconvert_exporter": "python",
   "pygments_lexer": "ipython3",
   "version": "3.8.8"
  },
  "toc": {
   "base_numbering": 1,
   "nav_menu": {},
   "number_sections": true,
   "sideBar": true,
   "skip_h1_title": false,
   "title_cell": "Table of Contents",
   "title_sidebar": "Contents",
   "toc_cell": false,
   "toc_position": {},
   "toc_section_display": true,
   "toc_window_display": false
  }
 },
 "nbformat": 4,
 "nbformat_minor": 5
}
