{
 "cells": [
  {
   "cell_type": "code",
   "execution_count": 20,
   "id": "8b518874",
   "metadata": {},
   "outputs": [],
   "source": [
    "import requests\n",
    "import csv\n",
    "import json\n",
    "import time"
   ]
  },
  {
   "cell_type": "code",
   "execution_count": 21,
   "id": "c4e57a7c",
   "metadata": {},
   "outputs": [],
   "source": [
    "userAgent = \"Mozilla/5.0 (Windows NT 10.0; Win64; x64) AppleWebKit/537.36 (KHTML, like Gecko) Chrome/95.0.4638.54 Safari/537.36\"\n",
    "headers = {\"User-Agent\" : userAgent}\n",
    "url = 'https://airtw.epa.gov.tw/json/airlist/airlist_43_{}.json?t={}' ## 43 為桃園區的代碼"
   ]
  },
  {
   "cell_type": "markdown",
   "id": "da4c143e",
   "metadata": {},
   "source": [
    "## 取出 url 所需的資料"
   ]
  },
  {
   "cell_type": "code",
   "execution_count": 22,
   "id": "019c2c0c",
   "metadata": {},
   "outputs": [
    {
     "data": {
      "text/plain": [
       "'2021111508'"
      ]
     },
     "execution_count": 22,
     "metadata": {},
     "output_type": "execute_result"
    }
   ],
   "source": [
    "## 指定 ajax-post 請求的 url\n",
    "url_post = 'https://airtw.epa.gov.tw/ajax.aspx'\n",
    "\n",
    "## post 請求攜帶之參數\n",
    "data = {\n",
    "    \"Target\": \"system_time\"\n",
    "}\n",
    "\n",
    "## 發起基於 ajax 的 post 請求\n",
    "response = requests.post(url_post, data = data, headers = headers)\n",
    "\n",
    "## 抓出需要的資料\n",
    "tw_time = response.text\n",
    "tw_time = json.loads(tw_time)\n",
    "twTime = tw_time['tw_time']\n",
    "twTime"
   ]
  },
  {
   "cell_type": "code",
   "execution_count": 23,
   "id": "9936dc51",
   "metadata": {},
   "outputs": [
    {
     "name": "stdout",
     "output_type": "stream",
     "text": [
      "1636940466151\n"
     ]
    }
   ],
   "source": [
    "nowTime = int(round(time.time() *1000))\n",
    "print(nowTime)"
   ]
  },
  {
   "cell_type": "markdown",
   "id": "24aadba0",
   "metadata": {},
   "source": [
    "## 得到即時 AQI"
   ]
  },
  {
   "cell_type": "code",
   "execution_count": 35,
   "id": "a1ebc2b9",
   "metadata": {
    "scrolled": true
   },
   "outputs": [
    {
     "data": {
      "text/plain": [
       "'35'"
      ]
     },
     "execution_count": 35,
     "metadata": {},
     "output_type": "execute_result"
    }
   ],
   "source": [
    "response = requests.get(url.format(twTime, nowTime), headers=headers)\n",
    "Air_quality_data = response.json()\n",
    "#AQI = Air_quality_data[\"AQI\"]\n",
    "Air_quality_data[4]['AQI']"
   ]
  },
  {
   "cell_type": "code",
   "execution_count": 47,
   "id": "74a219d8",
   "metadata": {
    "scrolled": true
   },
   "outputs": [
    {
     "name": "stdout",
     "output_type": "stream",
     "text": [
      "35\n"
     ]
    },
    {
     "data": {
      "text/plain": [
       "int"
      ]
     },
     "execution_count": 47,
     "metadata": {},
     "output_type": "execute_result"
    }
   ],
   "source": [
    "for col in Air_quality_data:\n",
    "    if \"AQI\" in col.keys():\n",
    "        AQI = int(col[\"AQI\"])\n",
    "        print(AQI)"
   ]
  },
  {
   "cell_type": "code",
   "execution_count": 51,
   "id": "aa21acf8",
   "metadata": {},
   "outputs": [
    {
     "name": "stdout",
     "output_type": "stream",
     "text": [
      "現在的空氣品質指標為 : 35\n"
     ]
    }
   ],
   "source": [
    "import requests\n",
    "import json\n",
    "import time\n",
    "\n",
    "\n",
    "userAgent = \"Mozilla/5.0 (Windows NT 10.0; Win64; x64) AppleWebKit/537.36 (KHTML, like Gecko) Chrome/95.0.4638.54 Safari/537.36\"\n",
    "headers = {\"User-Agent\" : userAgent}\n",
    "url = 'https://airtw.epa.gov.tw/json/airlist/airlist_43_{}.json?t={}' ## 43 為桃園區的代碼\n",
    "## 指定 ajax-post 請求的 url\n",
    "url_post = 'https://airtw.epa.gov.tw/ajax.aspx'\n",
    "\n",
    "############################## 取出 url 所需的資料  #############################\n",
    "def get_data(url, headers):   \n",
    "    \n",
    "    ## post 請求攜帶之參數\n",
    "    data = {\"Target\": \"system_time\"}\n",
    "    \n",
    "    ## 發起基於 ajax 的 post 請求\n",
    "    response = requests.post(url, data = data, headers = headers)\n",
    "    \n",
    "    ## 抓出需要的資料\n",
    "    tw_time = response.text\n",
    "    tw_time = json.loads(tw_time)\n",
    "    twTime = tw_time['tw_time']\n",
    "    twTime\n",
    "    \n",
    "    nowTime = int(round(time.time() *1000))\n",
    "    return twTime, nowTime\n",
    "\n",
    "################################# 得到即時 AQI  ################################\n",
    "def immediate_AQI(twTime, nowTime, headers):\n",
    "    response = requests.get(url.format(twTime, nowTime), headers=headers)\n",
    "    Air_quality_data = response.json()\n",
    "       \n",
    "    \n",
    "    for col in Air_quality_data:\n",
    "        if \"AQI\" in col.keys():\n",
    "            return int(col[\"AQI\"])\n",
    "        \n",
    "\n",
    "para = get_data(url_post, headers)\n",
    "AQI = immediate_AQI(para[0], para[1], headers)\n",
    "print(\"現在的空氣品質指標為 :\", AQI)"
   ]
  }
 ],
 "metadata": {
  "kernelspec": {
   "display_name": "Python 3",
   "language": "python",
   "name": "python3"
  },
  "language_info": {
   "codemirror_mode": {
    "name": "ipython",
    "version": 3
   },
   "file_extension": ".py",
   "mimetype": "text/x-python",
   "name": "python",
   "nbconvert_exporter": "python",
   "pygments_lexer": "ipython3",
   "version": "3.8.8"
  },
  "toc": {
   "base_numbering": 1,
   "nav_menu": {},
   "number_sections": true,
   "sideBar": true,
   "skip_h1_title": false,
   "title_cell": "Table of Contents",
   "title_sidebar": "Contents",
   "toc_cell": false,
   "toc_position": {},
   "toc_section_display": true,
   "toc_window_display": false
  }
 },
 "nbformat": 4,
 "nbformat_minor": 5
}
