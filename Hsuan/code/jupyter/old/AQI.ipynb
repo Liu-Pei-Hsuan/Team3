{
 "cells": [
  {
   "cell_type": "code",
   "execution_count": 1,
   "id": "a427ce15",
   "metadata": {},
   "outputs": [],
   "source": [
    "import requests\n",
    "import csv\n",
    "import json\n",
    "import pandas as pd\n",
    "from datetime import datetime, timedelta, timezone"
   ]
  },
  {
   "cell_type": "markdown",
   "id": "70cae5c7",
   "metadata": {},
   "source": [
    "## 日空氣品質指標"
   ]
  },
  {
   "cell_type": "code",
   "execution_count": 2,
   "id": "675d9e0b",
   "metadata": {},
   "outputs": [
    {
     "name": "stdout",
     "output_type": "stream",
     "text": [
      "正常回傳，已取得資料\n"
     ]
    }
   ],
   "source": [
    "userAgent = \"Mozilla/5.0 (Windows NT 10.0; Win64; x64) AppleWebKit/537.36 (KHTML, like Gecko) Chrome/95.0.4638.54 Safari/537.36\"\n",
    "headers = {\"User-Agent\" : userAgent}\n",
    "url='https://data.epa.gov.tw/api/v1/aqx_p_434?offset=0&limit=1000&api_key=84d3f5d7-6629-4967-9218-f0a6dae7be37'\n",
    "\n",
    "# 檢查網頁是否正常回傳，並取得資料\n",
    "def get_AQI(url):\n",
    "    response = requests.get(url, headers = headers)\n",
    "    if response.status_code == 200:\n",
    "        aqi = response.json()['records']\n",
    "        print(\"正常回傳，已取得資料\")\n",
    "        return aqi\n",
    "    else:\n",
    "        print(\"回傳錯誤\")\n",
    "\n",
    "AQI = get_AQI(url)"
   ]
  },
  {
   "cell_type": "markdown",
   "id": "9dfba0cd",
   "metadata": {},
   "source": [
    "SiteId\t      測站編號\t\n",
    "SiteName\t  測站名稱\t\n",
    "MonitorDate\t  監測日期\t\n",
    "AQI\t          空氣品質指標\t\n",
    "SO2SubIndex\t  二氧化硫副指標\t\n",
    "COSubIndex\t  一氧化碳副指標\t\n",
    "O3SubIndex\t  臭氧副指標\t\n",
    "PM10SubIndex  懸浮微粒副指標\t\n",
    "NO2SubIndex\t  二氧化氮副指標\t\n",
    "O38SubIndex\t  臭氧8小時副指標\t\n",
    "PM25SubIndex  細懸浮微粒副指標"
   ]
  },
  {
   "cell_type": "code",
   "execution_count": 3,
   "id": "c1972929",
   "metadata": {
    "collapsed": true
   },
   "outputs": [
    {
     "data": {
      "text/plain": [
       "[('汐止', '2021-11-14', '48'),\n",
       " ('大城', '2021-11-14', '64'),\n",
       " ('富貴角', '2021-11-14', '74'),\n",
       " ('麥寮', '2021-11-14', '45'),\n",
       " ('關山', '2021-11-14', '38'),\n",
       " ('馬公', '2021-11-14', '61'),\n",
       " ('金門', '2021-11-14', '71'),\n",
       " ('馬祖', '2021-11-14', '80'),\n",
       " ('埔里', '2021-11-14', '45'),\n",
       " ('復興', '2021-11-14', '57'),\n",
       " ('永和', '2021-11-14', '40'),\n",
       " ('竹山', '2021-11-14', '44'),\n",
       " ('中壢', '2021-11-14', '53'),\n",
       " ('三重', '2021-11-14', '58'),\n",
       " ('冬山', '2021-11-14', '38'),\n",
       " ('宜蘭', '2021-11-14', '51'),\n",
       " ('陽明', '2021-11-14', '48'),\n",
       " ('花蓮', '2021-11-14', '43'),\n",
       " ('臺東', '2021-11-14', '41'),\n",
       " ('恆春', '2021-11-14', '45'),\n",
       " ('潮州', '2021-11-14', '118'),\n",
       " ('屏東', '2021-11-14', '80'),\n",
       " ('小港', '2021-11-14', '57'),\n",
       " ('前鎮', '2021-11-14', '56'),\n",
       " ('前金', '2021-11-14', '80'),\n",
       " ('左營', '2021-11-14', '74'),\n",
       " ('楠梓', '2021-11-14', '-1'),\n",
       " ('林園', '2021-11-14', '80'),\n",
       " ('大寮', '2021-11-14', '71'),\n",
       " ('鳳山', '2021-11-14', '67'),\n",
       " ('仁武', '2021-11-14', '67'),\n",
       " ('橋頭', '2021-11-14', '67'),\n",
       " ('美濃', '2021-11-14', '53'),\n",
       " ('臺南', '2021-11-14', '67'),\n",
       " ('安南', '2021-11-14', '71'),\n",
       " ('善化', '2021-11-14', '54'),\n",
       " ('新營', '2021-11-14', '61'),\n",
       " ('嘉義', '2021-11-14', '49'),\n",
       " ('臺西', '2021-11-14', '31'),\n",
       " ('朴子', '2021-11-14', '58'),\n",
       " ('新港', '2021-11-14', '50'),\n",
       " ('崙背', '2021-11-14', '51'),\n",
       " ('斗六', '2021-11-14', '52'),\n",
       " ('南投', '2021-11-14', '44'),\n",
       " ('二林', '2021-11-14', '50'),\n",
       " ('線西', '2021-11-14', '36'),\n",
       " ('彰化', '2021-11-14', '45'),\n",
       " ('西屯', '2021-11-14', '43'),\n",
       " ('忠明', '2021-11-14', '42'),\n",
       " ('大里', '2021-11-14', '45'),\n",
       " ('沙鹿', '2021-11-14', '47'),\n",
       " ('豐原', '2021-11-14', '38'),\n",
       " ('三義', '2021-11-14', '43'),\n",
       " ('苗栗', '2021-11-14', '44'),\n",
       " ('頭份', '2021-11-14', '30'),\n",
       " ('新竹', '2021-11-14', '42'),\n",
       " ('竹東', '2021-11-14', '43'),\n",
       " ('湖口', '2021-11-14', '43'),\n",
       " ('龍潭', '2021-11-14', '44'),\n",
       " ('基隆', '2021-11-14', '42'),\n",
       " ('平鎮', '2021-11-14', '38'),\n",
       " ('觀音', '2021-11-14', '44'),\n",
       " ('大園', '2021-11-14', '43'),\n",
       " ('桃園', '2021-11-14', '34'),\n",
       " ('大同', '2021-11-14', '61'),\n",
       " ('松山', '2021-11-14', '37'),\n",
       " ('古亭', '2021-11-14', '37'),\n",
       " ('萬華', '2021-11-14', '42'),\n",
       " ('中山', '2021-11-14', '47'),\n",
       " ('士林', '2021-11-14', '46'),\n",
       " ('淡水', '2021-11-14', '44'),\n",
       " ('林口', '2021-11-14', '40'),\n",
       " ('菜寮', '2021-11-14', '36'),\n",
       " ('新莊', '2021-11-14', '35'),\n",
       " ('板橋', '2021-11-14', '37'),\n",
       " ('土城', '2021-11-14', '36'),\n",
       " ('新店', '2021-11-14', '39'),\n",
       " ('萬里', '2021-11-14', '58')]"
      ]
     },
     "execution_count": 3,
     "metadata": {},
     "output_type": "execute_result"
    }
   ],
   "source": [
    "### way 1 用 list 型態存資料\n",
    "SQL_day = []\n",
    "\n",
    "def dailyAQI_CSV(AQIData):\n",
    "    filename = '日空氣品質指標.csv'\n",
    "    columns_name=['測站名稱','監測日期','空氣品質指標']   # 變數名稱\n",
    "    yesterday = str(datetime.today().date() - timedelta(days=1)) \n",
    "    with open(filename,'w',newline='',encoding=\"utf-8-sig\") as csvFile:     # 建立一個 CSV\n",
    "        csv_writer = csv.writer(csvFile)\n",
    "        csv_writer.writerow(columns_name)\n",
    "\n",
    "    with open(filename,'a',newline='',encoding=\"utf-8-sig\") as csvFile:     # append csv\n",
    "        csv_writer = csv.writer(csvFile)\n",
    "\n",
    "        for col in AQIData:\n",
    "            if col[\"MonitorDate\"] == yesterday:\n",
    "                data = [col[\"SiteName\"], col[\"MonitorDate\"], col[\"AQI\"]]\n",
    "                data = tuple(data)\n",
    "                SQL_day.append(data)\n",
    "\n",
    "                csv_writer.writerow(data)\n",
    "    return SQL_day\n",
    "\n",
    "\n",
    "AQI_day = dailyAQI_CSV(AQI)\n",
    "AQI_day"
   ]
  },
  {
   "cell_type": "code",
   "execution_count": 18,
   "id": "c9a32f7a",
   "metadata": {},
   "outputs": [],
   "source": [
    "# ### way 2 用 dict 型態存資料\n",
    "\n",
    "# def dailyAQI_CSV(AQIData):\n",
    "#     filename = '日空氣品質指標.csv'\n",
    "#     columns_name=['測站名稱','監測日期','空氣品質指標']   # 變數名稱\n",
    "#     yesterday = str(datetime.today().date() - timedelta(days=1)) \n",
    "# #     with open(filename,'w',newline='',encoding=\"utf-8-sig\") as csvFile:     #定義 CSV 的寫入檔,寫入完會換下一行\n",
    "# #         dictWriter = csv.DictWriter(csvFile,fieldnames=columns_name)        # 定義寫入器\n",
    "# #         dictWriter.writeheader()\n",
    "\n",
    "#     with open(filename,'a',newline='',encoding=\"utf-8-sig\") as csvFile:     #定義 CSV 的寫入檔,寫入完會換下一行\n",
    "#         dictWriter = csv.DictWriter(csvFile,fieldnames=columns_name)        # 定義寫入器\n",
    "\n",
    "#         for col in AQIData:\n",
    "#             if col[\"MonitorDate\"] == yesterday:\n",
    "#                 sitename = col[\"SiteName\"]\n",
    "#                 date = col[\"MonitorDate\"]\n",
    "#                 AQI = col[\"AQI\"]\n",
    "\n",
    "#                 dictWriter.writerow({'測站名稱':sitename,'監測日期':date,'空氣品質指標':AQI})\n",
    "\n",
    "# dailyAQI_CSV(AQI)"
   ]
  },
  {
   "cell_type": "markdown",
   "id": "e08a0169",
   "metadata": {},
   "source": [
    "## 空氣品質指標_小時"
   ]
  },
  {
   "cell_type": "markdown",
   "id": "bf293c65",
   "metadata": {},
   "source": [
    "### 最新資料"
   ]
  },
  {
   "cell_type": "code",
   "execution_count": 5,
   "id": "22a39203",
   "metadata": {},
   "outputs": [
    {
     "name": "stdout",
     "output_type": "stream",
     "text": [
      "正常回傳，已取得資料\n"
     ]
    }
   ],
   "source": [
    "userAgent = \"Mozilla/5.0 (Windows NT 10.0; Win64; x64) AppleWebKit/537.36 (KHTML, like Gecko) Chrome/95.0.4638.54 Safari/537.36\"\n",
    "headers = {\"User-Agent\" : userAgent}\n",
    "url = \"https://data.epa.gov.tw/api/v1/aqx_p_432?limit=1000&api_key=84d3f5d7-6629-4967-9218-f0a6dae7be37\"\n",
    "\n",
    "# 檢查網頁是否正常回傳，並取得資料\n",
    "def get_AQI(url):\n",
    "    response = requests.get(url, headers=headers)\n",
    "    if response.status_code == 200:\n",
    "        aqi = response.json()['records']\n",
    "        print(\"正常回傳，已取得資料\")\n",
    "        return aqi\n",
    "    else:\n",
    "        print(\"回傳錯誤\")\n",
    "\n",
    "AQI_hour = get_AQI(url)"
   ]
  },
  {
   "cell_type": "code",
   "execution_count": 6,
   "id": "6a1041cc",
   "metadata": {
    "scrolled": false
   },
   "outputs": [],
   "source": [
    "### way 1 用 list 型態存資料\n",
    "SQL_hour = []\n",
    "file_name = '空氣品質指標_小時.csv'\n",
    "columns_name = ['SiteName','County','AQI','Status','SO2','CO','O3','PM10','PM2.5',\n",
    "                'NO2','NOx','NO','WindSpeed','WindDirec','PublishTime']\n",
    "\n",
    "def hourAQI_CSV(AQIData):\n",
    "    with open(file_name,'w',newline='',encoding=\"utf-8-sig\") as csvFile:     # 建立一個 CSV\n",
    "        csv_writer = csv.writer(csvFile)\n",
    "        csv_writer.writerow(columns_name)\n",
    "\n",
    "    with open(file_name,'a',newline='',encoding=\"utf-8-sig\") as csvFile:     # append csv\n",
    "        csv_writer = csv.writer(csvFile)\n",
    "    \n",
    "        for col in AQIData:\n",
    "            data = [col[\"SiteName\"], col[\"County\"], col[\"AQI\"], col[\"Status\"], col[\"SO2\"], col[\"CO\"], col[\"O3\"], col[\"PM10\"],\n",
    "                    col[\"PM2.5\"], col[\"NO2\"], col[\"NOx\"], col[\"NO\"], col[\"WindSpeed\"], col[\"WindDirec\"], col[\"PublishTime\"]]\n",
    "            data = tuple(data)\n",
    "            SQL_hour.append(data)\n",
    "\n",
    "            csv_writer.writerow(data)\n",
    "    return SQL_hour\n",
    "\n",
    "AQI_hour = hourAQI_CSV(AQI_hour)"
   ]
  },
  {
   "cell_type": "code",
   "execution_count": 9,
   "id": "c643250d",
   "metadata": {},
   "outputs": [],
   "source": [
    "# ### way 2 用 dict 型態存資料\n",
    "\n",
    "# file_name = '空氣品質指標_小時.csv'\n",
    "# columns_name = ['SiteName','County','AQI','Status','SO2','CO','O3','PM10','PM2.5',\n",
    "#                 'NO2','NOx','NO','WindSpeed','WindDirec','PublishTime']\n",
    "\n",
    "# def hourAQI_CSV(AQIData):\n",
    "#     with open(file_name,'w',newline='',encoding=\"utf-8-sig\") as csvFile:     #定義 CSV 的寫入檔,寫入完會換下一行\n",
    "#         dictWriter = csv.DictWriter(csvFile,fieldnames=columns_name)        # 定義寫入器\n",
    "#         dictWriter.writeheader()\n",
    "\n",
    "#     with open(file_name,'a',newline='',encoding=\"utf-8-sig\") as csvFile:     #定義 CSV 的寫入檔,寫入完會換下一行\n",
    "#         dictWriter = csv.DictWriter(csvFile,fieldnames=columns_name)        # 定義寫入器\n",
    "    \n",
    "#         for col in AQIData:\n",
    "#             sitename = col[\"SiteName\"]\n",
    "#             county = col[\"County\"]\n",
    "#             AQI = col[\"AQI\"]\n",
    "#             status = col[\"Status\"]\n",
    "#             SO2 = col[\"SO2\"]\n",
    "#             CO = col[\"CO\"]\n",
    "#             O3 = col[\"O3\"]\n",
    "#             PM10 = col[\"PM10\"]\n",
    "#             PM25 = col[\"PM2.5\"]\n",
    "#             NO2 = col[\"NO2\"]\n",
    "#             NOx = col[\"NOx\"]\n",
    "#             NO = col[\"NO\"]\n",
    "#             windspeed = col[\"WindSpeed\"]\n",
    "#             winddirec = col[\"WindDirec\"]\n",
    "#             time = col[\"PublishTime\"]\n",
    "\n",
    "#             dictWriter.writerow({'SiteName':sitename,'County':county,'AQI':AQI,'Status':status,'SO2':SO2,\n",
    "#                                  'CO':CO,'O3':O3,'PM10':PM10,'PM2.5':PM25,'NO2':NO2,'NOx':NOx,'NO':NO,\n",
    "#                                  'WindSpeed':windspeed,'WindDirec':winddirec,'PublishTime':time})\n",
    "\n",
    "# hourAQI_CSV(AQI_hour)"
   ]
  },
  {
   "cell_type": "markdown",
   "id": "496cd98c",
   "metadata": {},
   "source": [
    "### 歷史資料"
   ]
  },
  {
   "cell_type": "code",
   "execution_count": 6,
   "id": "e079d0e0",
   "metadata": {},
   "outputs": [
    {
     "name": "stdout",
     "output_type": "stream",
     "text": [
      "正常回傳，已取得資料\n"
     ]
    }
   ],
   "source": [
    "userAgent = \"Mozilla/5.0 (Windows NT 10.0; Win64; x64) AppleWebKit/537.36 (KHTML, like Gecko) Chrome/95.0.4638.54 Safari/537.36\"\n",
    "headers = {\"User-Agent\" : userAgent}\n",
    "url = \"https://data.epa.gov.tw/api/v1/aqx_p_488?api_key=84d3f5d7-6629-4967-9218-f0a6dae7be37\"\n",
    "\n",
    "# 檢查網頁是否正常回傳，並取得資料\n",
    "def get_AQI(url):\n",
    "    response = requests.get(url, headers=headers)\n",
    "    if response.status_code == 200:\n",
    "        aqi = response.json()['records']\n",
    "        print(\"正常回傳，已取得資料\")\n",
    "        return aqi\n",
    "    else:\n",
    "        print(\"回傳錯誤\")\n",
    "\n",
    "AQI_hour = get_AQI(url)"
   ]
  },
  {
   "cell_type": "code",
   "execution_count": 11,
   "id": "f35fe118",
   "metadata": {},
   "outputs": [],
   "source": [
    "### way 1 用 list 型態存資料\n",
    "\n",
    "file_name = '空氣品質指標_小時(歷史資料).csv'\n",
    "columns_name = ['SiteName','County','AQI','Status','SO2','CO','O3','PM10','PM2.5',\n",
    "                'NO2','NOx','NO','WindSpeed','WindDirec','DataCreationDate']\n",
    "\n",
    "def hourAQI_CSV(AQIData):\n",
    "    with open(file_name,'w',newline='',encoding=\"utf-8-sig\") as csvFile:     # 建立一個 CSV\n",
    "        csv_writer = csv.writer(csvFile)\n",
    "        csv_writer.writerow(columns_name)\n",
    "\n",
    "    with open(file_name,'a',newline='',encoding=\"utf-8-sig\") as csvFile:     # append csv\n",
    "        csv_writer = csv.writer(csvFile)\n",
    "    \n",
    "        for col in AQIData:\n",
    "            data = [col[\"SiteName\"], col[\"County\"], col[\"AQI\"], col[\"Status\"], col[\"SO2\"], col[\"CO\"], col[\"O3\"], col[\"PM10\"],\n",
    "                    col[\"PM2.5\"], col[\"NO2\"], col[\"NOx\"], col[\"NO\"], col[\"WindSpeed\"], col[\"WindDirec\"], col[\"DataCreationDate\"]]\n",
    "\n",
    "            csv_writer.writerow(data)\n",
    "\n",
    "hourAQI_CSV(AQI_hour)"
   ]
  },
  {
   "cell_type": "markdown",
   "id": "dd8da36a",
   "metadata": {},
   "source": [
    "## SQL"
   ]
  },
  {
   "cell_type": "code",
   "execution_count": 37,
   "id": "e1dc85ab",
   "metadata": {},
   "outputs": [],
   "source": [
    "import pymysql"
   ]
  },
  {
   "cell_type": "code",
   "execution_count": 38,
   "id": "20bb22af",
   "metadata": {},
   "outputs": [],
   "source": [
    "# 先寫好 SQL 語法\n",
    "# 並將語法中會不斷改變的部分挖空 ( %s )\n",
    "sql_insert = \"\"\"\n",
    "INSERT INTO aqi_day (SiteName, MonitorDate, AQI)\n",
    "VALUES (%s, %s, %s);\n",
    "\"\"\""
   ]
  },
  {
   "cell_type": "code",
   "execution_count": 39,
   "id": "b5885c45",
   "metadata": {
    "scrolled": true
   },
   "outputs": [
    {
     "ename": "KeyboardInterrupt",
     "evalue": "",
     "output_type": "error",
     "traceback": [
      "\u001b[1;31m---------------------------------------------------------------------------\u001b[0m",
      "\u001b[1;31mKeyboardInterrupt\u001b[0m                         Traceback (most recent call last)",
      "\u001b[1;32m<ipython-input-39-b05c56df5bba>\u001b[0m in \u001b[0;36m<module>\u001b[1;34m\u001b[0m\n\u001b[0;32m     10\u001b[0m \u001b[0mconn\u001b[0m \u001b[1;33m=\u001b[0m \u001b[0mpymysql\u001b[0m\u001b[1;33m.\u001b[0m\u001b[0mconnect\u001b[0m\u001b[1;33m(\u001b[0m\u001b[1;33m**\u001b[0m\u001b[0mconfig\u001b[0m\u001b[1;33m)\u001b[0m \u001b[1;31m## **會將字典型態轉變(kwargs)\u001b[0m\u001b[1;33m\u001b[0m\u001b[1;33m\u001b[0m\u001b[0m\n\u001b[0;32m     11\u001b[0m \u001b[0mcursor\u001b[0m \u001b[1;33m=\u001b[0m \u001b[0mconn\u001b[0m\u001b[1;33m.\u001b[0m\u001b[0mcursor\u001b[0m\u001b[1;33m(\u001b[0m\u001b[1;33m)\u001b[0m\u001b[1;33m\u001b[0m\u001b[1;33m\u001b[0m\u001b[0m\n\u001b[1;32m---> 12\u001b[1;33m \u001b[0mcursor\u001b[0m\u001b[1;33m.\u001b[0m\u001b[0mexecute\u001b[0m\u001b[1;33m(\u001b[0m\u001b[1;34m\"select * from aqi_day\"\u001b[0m\u001b[1;33m)\u001b[0m\u001b[1;33m\u001b[0m\u001b[1;33m\u001b[0m\u001b[0m\n\u001b[0m",
      "\u001b[1;32m~\\anaconda3\\lib\\site-packages\\pymysql\\cursors.py\u001b[0m in \u001b[0;36mexecute\u001b[1;34m(self, query, args)\u001b[0m\n\u001b[0;32m    146\u001b[0m         \u001b[0mquery\u001b[0m \u001b[1;33m=\u001b[0m \u001b[0mself\u001b[0m\u001b[1;33m.\u001b[0m\u001b[0mmogrify\u001b[0m\u001b[1;33m(\u001b[0m\u001b[0mquery\u001b[0m\u001b[1;33m,\u001b[0m \u001b[0margs\u001b[0m\u001b[1;33m)\u001b[0m\u001b[1;33m\u001b[0m\u001b[1;33m\u001b[0m\u001b[0m\n\u001b[0;32m    147\u001b[0m \u001b[1;33m\u001b[0m\u001b[0m\n\u001b[1;32m--> 148\u001b[1;33m         \u001b[0mresult\u001b[0m \u001b[1;33m=\u001b[0m \u001b[0mself\u001b[0m\u001b[1;33m.\u001b[0m\u001b[0m_query\u001b[0m\u001b[1;33m(\u001b[0m\u001b[0mquery\u001b[0m\u001b[1;33m)\u001b[0m\u001b[1;33m\u001b[0m\u001b[1;33m\u001b[0m\u001b[0m\n\u001b[0m\u001b[0;32m    149\u001b[0m         \u001b[0mself\u001b[0m\u001b[1;33m.\u001b[0m\u001b[0m_executed\u001b[0m \u001b[1;33m=\u001b[0m \u001b[0mquery\u001b[0m\u001b[1;33m\u001b[0m\u001b[1;33m\u001b[0m\u001b[0m\n\u001b[0;32m    150\u001b[0m         \u001b[1;32mreturn\u001b[0m \u001b[0mresult\u001b[0m\u001b[1;33m\u001b[0m\u001b[1;33m\u001b[0m\u001b[0m\n",
      "\u001b[1;32m~\\anaconda3\\lib\\site-packages\\pymysql\\cursors.py\u001b[0m in \u001b[0;36m_query\u001b[1;34m(self, q)\u001b[0m\n\u001b[0;32m    308\u001b[0m         \u001b[0mself\u001b[0m\u001b[1;33m.\u001b[0m\u001b[0m_last_executed\u001b[0m \u001b[1;33m=\u001b[0m \u001b[0mq\u001b[0m\u001b[1;33m\u001b[0m\u001b[1;33m\u001b[0m\u001b[0m\n\u001b[0;32m    309\u001b[0m         \u001b[0mself\u001b[0m\u001b[1;33m.\u001b[0m\u001b[0m_clear_result\u001b[0m\u001b[1;33m(\u001b[0m\u001b[1;33m)\u001b[0m\u001b[1;33m\u001b[0m\u001b[1;33m\u001b[0m\u001b[0m\n\u001b[1;32m--> 310\u001b[1;33m         \u001b[0mconn\u001b[0m\u001b[1;33m.\u001b[0m\u001b[0mquery\u001b[0m\u001b[1;33m(\u001b[0m\u001b[0mq\u001b[0m\u001b[1;33m)\u001b[0m\u001b[1;33m\u001b[0m\u001b[1;33m\u001b[0m\u001b[0m\n\u001b[0m\u001b[0;32m    311\u001b[0m         \u001b[0mself\u001b[0m\u001b[1;33m.\u001b[0m\u001b[0m_do_get_result\u001b[0m\u001b[1;33m(\u001b[0m\u001b[1;33m)\u001b[0m\u001b[1;33m\u001b[0m\u001b[1;33m\u001b[0m\u001b[0m\n\u001b[0;32m    312\u001b[0m         \u001b[1;32mreturn\u001b[0m \u001b[0mself\u001b[0m\u001b[1;33m.\u001b[0m\u001b[0mrowcount\u001b[0m\u001b[1;33m\u001b[0m\u001b[1;33m\u001b[0m\u001b[0m\n",
      "\u001b[1;32m~\\anaconda3\\lib\\site-packages\\pymysql\\connections.py\u001b[0m in \u001b[0;36mquery\u001b[1;34m(self, sql, unbuffered)\u001b[0m\n\u001b[0;32m    546\u001b[0m             \u001b[0msql\u001b[0m \u001b[1;33m=\u001b[0m \u001b[0msql\u001b[0m\u001b[1;33m.\u001b[0m\u001b[0mencode\u001b[0m\u001b[1;33m(\u001b[0m\u001b[0mself\u001b[0m\u001b[1;33m.\u001b[0m\u001b[0mencoding\u001b[0m\u001b[1;33m,\u001b[0m \u001b[1;34m\"surrogateescape\"\u001b[0m\u001b[1;33m)\u001b[0m\u001b[1;33m\u001b[0m\u001b[1;33m\u001b[0m\u001b[0m\n\u001b[0;32m    547\u001b[0m         \u001b[0mself\u001b[0m\u001b[1;33m.\u001b[0m\u001b[0m_execute_command\u001b[0m\u001b[1;33m(\u001b[0m\u001b[0mCOMMAND\u001b[0m\u001b[1;33m.\u001b[0m\u001b[0mCOM_QUERY\u001b[0m\u001b[1;33m,\u001b[0m \u001b[0msql\u001b[0m\u001b[1;33m)\u001b[0m\u001b[1;33m\u001b[0m\u001b[1;33m\u001b[0m\u001b[0m\n\u001b[1;32m--> 548\u001b[1;33m         \u001b[0mself\u001b[0m\u001b[1;33m.\u001b[0m\u001b[0m_affected_rows\u001b[0m \u001b[1;33m=\u001b[0m \u001b[0mself\u001b[0m\u001b[1;33m.\u001b[0m\u001b[0m_read_query_result\u001b[0m\u001b[1;33m(\u001b[0m\u001b[0munbuffered\u001b[0m\u001b[1;33m=\u001b[0m\u001b[0munbuffered\u001b[0m\u001b[1;33m)\u001b[0m\u001b[1;33m\u001b[0m\u001b[1;33m\u001b[0m\u001b[0m\n\u001b[0m\u001b[0;32m    549\u001b[0m         \u001b[1;32mreturn\u001b[0m \u001b[0mself\u001b[0m\u001b[1;33m.\u001b[0m\u001b[0m_affected_rows\u001b[0m\u001b[1;33m\u001b[0m\u001b[1;33m\u001b[0m\u001b[0m\n\u001b[0;32m    550\u001b[0m \u001b[1;33m\u001b[0m\u001b[0m\n",
      "\u001b[1;32m~\\anaconda3\\lib\\site-packages\\pymysql\\connections.py\u001b[0m in \u001b[0;36m_read_query_result\u001b[1;34m(self, unbuffered)\u001b[0m\n\u001b[0;32m    773\u001b[0m         \u001b[1;32melse\u001b[0m\u001b[1;33m:\u001b[0m\u001b[1;33m\u001b[0m\u001b[1;33m\u001b[0m\u001b[0m\n\u001b[0;32m    774\u001b[0m             \u001b[0mresult\u001b[0m \u001b[1;33m=\u001b[0m \u001b[0mMySQLResult\u001b[0m\u001b[1;33m(\u001b[0m\u001b[0mself\u001b[0m\u001b[1;33m)\u001b[0m\u001b[1;33m\u001b[0m\u001b[1;33m\u001b[0m\u001b[0m\n\u001b[1;32m--> 775\u001b[1;33m             \u001b[0mresult\u001b[0m\u001b[1;33m.\u001b[0m\u001b[0mread\u001b[0m\u001b[1;33m(\u001b[0m\u001b[1;33m)\u001b[0m\u001b[1;33m\u001b[0m\u001b[1;33m\u001b[0m\u001b[0m\n\u001b[0m\u001b[0;32m    776\u001b[0m         \u001b[0mself\u001b[0m\u001b[1;33m.\u001b[0m\u001b[0m_result\u001b[0m \u001b[1;33m=\u001b[0m \u001b[0mresult\u001b[0m\u001b[1;33m\u001b[0m\u001b[1;33m\u001b[0m\u001b[0m\n\u001b[0;32m    777\u001b[0m         \u001b[1;32mif\u001b[0m \u001b[0mresult\u001b[0m\u001b[1;33m.\u001b[0m\u001b[0mserver_status\u001b[0m \u001b[1;32mis\u001b[0m \u001b[1;32mnot\u001b[0m \u001b[1;32mNone\u001b[0m\u001b[1;33m:\u001b[0m\u001b[1;33m\u001b[0m\u001b[1;33m\u001b[0m\u001b[0m\n",
      "\u001b[1;32m~\\anaconda3\\lib\\site-packages\\pymysql\\connections.py\u001b[0m in \u001b[0;36mread\u001b[1;34m(self)\u001b[0m\n\u001b[0;32m   1154\u001b[0m     \u001b[1;32mdef\u001b[0m \u001b[0mread\u001b[0m\u001b[1;33m(\u001b[0m\u001b[0mself\u001b[0m\u001b[1;33m)\u001b[0m\u001b[1;33m:\u001b[0m\u001b[1;33m\u001b[0m\u001b[1;33m\u001b[0m\u001b[0m\n\u001b[0;32m   1155\u001b[0m         \u001b[1;32mtry\u001b[0m\u001b[1;33m:\u001b[0m\u001b[1;33m\u001b[0m\u001b[1;33m\u001b[0m\u001b[0m\n\u001b[1;32m-> 1156\u001b[1;33m             \u001b[0mfirst_packet\u001b[0m \u001b[1;33m=\u001b[0m \u001b[0mself\u001b[0m\u001b[1;33m.\u001b[0m\u001b[0mconnection\u001b[0m\u001b[1;33m.\u001b[0m\u001b[0m_read_packet\u001b[0m\u001b[1;33m(\u001b[0m\u001b[1;33m)\u001b[0m\u001b[1;33m\u001b[0m\u001b[1;33m\u001b[0m\u001b[0m\n\u001b[0m\u001b[0;32m   1157\u001b[0m \u001b[1;33m\u001b[0m\u001b[0m\n\u001b[0;32m   1158\u001b[0m             \u001b[1;32mif\u001b[0m \u001b[0mfirst_packet\u001b[0m\u001b[1;33m.\u001b[0m\u001b[0mis_ok_packet\u001b[0m\u001b[1;33m(\u001b[0m\u001b[1;33m)\u001b[0m\u001b[1;33m:\u001b[0m\u001b[1;33m\u001b[0m\u001b[1;33m\u001b[0m\u001b[0m\n",
      "\u001b[1;32m~\\anaconda3\\lib\\site-packages\\pymysql\\connections.py\u001b[0m in \u001b[0;36m_read_packet\u001b[1;34m(self, packet_type)\u001b[0m\n\u001b[0;32m    690\u001b[0m         \u001b[0mbuff\u001b[0m \u001b[1;33m=\u001b[0m \u001b[0mbytearray\u001b[0m\u001b[1;33m(\u001b[0m\u001b[1;33m)\u001b[0m\u001b[1;33m\u001b[0m\u001b[1;33m\u001b[0m\u001b[0m\n\u001b[0;32m    691\u001b[0m         \u001b[1;32mwhile\u001b[0m \u001b[1;32mTrue\u001b[0m\u001b[1;33m:\u001b[0m\u001b[1;33m\u001b[0m\u001b[1;33m\u001b[0m\u001b[0m\n\u001b[1;32m--> 692\u001b[1;33m             \u001b[0mpacket_header\u001b[0m \u001b[1;33m=\u001b[0m \u001b[0mself\u001b[0m\u001b[1;33m.\u001b[0m\u001b[0m_read_bytes\u001b[0m\u001b[1;33m(\u001b[0m\u001b[1;36m4\u001b[0m\u001b[1;33m)\u001b[0m\u001b[1;33m\u001b[0m\u001b[1;33m\u001b[0m\u001b[0m\n\u001b[0m\u001b[0;32m    693\u001b[0m             \u001b[1;31m# if DEBUG: dump_packet(packet_header)\u001b[0m\u001b[1;33m\u001b[0m\u001b[1;33m\u001b[0m\u001b[1;33m\u001b[0m\u001b[0m\n\u001b[0;32m    694\u001b[0m \u001b[1;33m\u001b[0m\u001b[0m\n",
      "\u001b[1;32m~\\anaconda3\\lib\\site-packages\\pymysql\\connections.py\u001b[0m in \u001b[0;36m_read_bytes\u001b[1;34m(self, num_bytes)\u001b[0m\n\u001b[0;32m    730\u001b[0m         \u001b[1;32mwhile\u001b[0m \u001b[1;32mTrue\u001b[0m\u001b[1;33m:\u001b[0m\u001b[1;33m\u001b[0m\u001b[1;33m\u001b[0m\u001b[0m\n\u001b[0;32m    731\u001b[0m             \u001b[1;32mtry\u001b[0m\u001b[1;33m:\u001b[0m\u001b[1;33m\u001b[0m\u001b[1;33m\u001b[0m\u001b[0m\n\u001b[1;32m--> 732\u001b[1;33m                 \u001b[0mdata\u001b[0m \u001b[1;33m=\u001b[0m \u001b[0mself\u001b[0m\u001b[1;33m.\u001b[0m\u001b[0m_rfile\u001b[0m\u001b[1;33m.\u001b[0m\u001b[0mread\u001b[0m\u001b[1;33m(\u001b[0m\u001b[0mnum_bytes\u001b[0m\u001b[1;33m)\u001b[0m\u001b[1;33m\u001b[0m\u001b[1;33m\u001b[0m\u001b[0m\n\u001b[0m\u001b[0;32m    733\u001b[0m                 \u001b[1;32mbreak\u001b[0m\u001b[1;33m\u001b[0m\u001b[1;33m\u001b[0m\u001b[0m\n\u001b[0;32m    734\u001b[0m             \u001b[1;32mexcept\u001b[0m \u001b[1;33m(\u001b[0m\u001b[0mIOError\u001b[0m\u001b[1;33m,\u001b[0m \u001b[0mOSError\u001b[0m\u001b[1;33m)\u001b[0m \u001b[1;32mas\u001b[0m \u001b[0me\u001b[0m\u001b[1;33m:\u001b[0m\u001b[1;33m\u001b[0m\u001b[1;33m\u001b[0m\u001b[0m\n",
      "\u001b[1;32m~\\anaconda3\\lib\\socket.py\u001b[0m in \u001b[0;36mreadinto\u001b[1;34m(self, b)\u001b[0m\n\u001b[0;32m    667\u001b[0m         \u001b[1;32mwhile\u001b[0m \u001b[1;32mTrue\u001b[0m\u001b[1;33m:\u001b[0m\u001b[1;33m\u001b[0m\u001b[1;33m\u001b[0m\u001b[0m\n\u001b[0;32m    668\u001b[0m             \u001b[1;32mtry\u001b[0m\u001b[1;33m:\u001b[0m\u001b[1;33m\u001b[0m\u001b[1;33m\u001b[0m\u001b[0m\n\u001b[1;32m--> 669\u001b[1;33m                 \u001b[1;32mreturn\u001b[0m \u001b[0mself\u001b[0m\u001b[1;33m.\u001b[0m\u001b[0m_sock\u001b[0m\u001b[1;33m.\u001b[0m\u001b[0mrecv_into\u001b[0m\u001b[1;33m(\u001b[0m\u001b[0mb\u001b[0m\u001b[1;33m)\u001b[0m\u001b[1;33m\u001b[0m\u001b[1;33m\u001b[0m\u001b[0m\n\u001b[0m\u001b[0;32m    670\u001b[0m             \u001b[1;32mexcept\u001b[0m \u001b[0mtimeout\u001b[0m\u001b[1;33m:\u001b[0m\u001b[1;33m\u001b[0m\u001b[1;33m\u001b[0m\u001b[0m\n\u001b[0;32m    671\u001b[0m                 \u001b[0mself\u001b[0m\u001b[1;33m.\u001b[0m\u001b[0m_timeout_occurred\u001b[0m \u001b[1;33m=\u001b[0m \u001b[1;32mTrue\u001b[0m\u001b[1;33m\u001b[0m\u001b[1;33m\u001b[0m\u001b[0m\n",
      "\u001b[1;31mKeyboardInterrupt\u001b[0m: "
     ]
    }
   ],
   "source": [
    "config = {\n",
    "    \"host\" : \"127.0.0.1\",\n",
    "    \"port\" : 3306,\n",
    "    \"user\" : \"root\",\n",
    "    \"passwd\" : \"012276\",\n",
    "    \"db\" : \"AQI\",\n",
    "    \"charset\" : \"utf8mb4\"\n",
    "}\n",
    "\n",
    "conn = pymysql.connect(**config) ## **會將字典型態轉變(kwargs)\n",
    "cursor = conn.cursor()\n",
    "cursor.execute(\"select * from aqi_day\")"
   ]
  },
  {
   "cell_type": "code",
   "execution_count": 33,
   "id": "49844f6a",
   "metadata": {},
   "outputs": [],
   "source": [
    "# 將 SQL 批量執行\n",
    "#cursor.executemany(sql_insert, AQI_day[0], AQI_day[1], )\n",
    "# cursor.execute(\"delete from aqi_day\")\n",
    "\n",
    "# Commit 並檢查資料是否存入資料庫\n",
    "conn.commit()"
   ]
  },
  {
   "cell_type": "code",
   "execution_count": 34,
   "id": "c6097927",
   "metadata": {},
   "outputs": [
    {
     "name": "stdout",
     "output_type": "stream",
     "text": [
      "資料筆數 : 0\n"
     ]
    }
   ],
   "source": [
    "print('資料筆數 :',cursor.execute(\"select * from aqi_day\"))"
   ]
  },
  {
   "cell_type": "code",
   "execution_count": 36,
   "id": "e886a5ff",
   "metadata": {},
   "outputs": [
    {
     "ename": "Error",
     "evalue": "Already closed",
     "output_type": "error",
     "traceback": [
      "\u001b[1;31m---------------------------------------------------------------------------\u001b[0m",
      "\u001b[1;31mError\u001b[0m                                     Traceback (most recent call last)",
      "\u001b[1;32m<ipython-input-36-12c619c93582>\u001b[0m in \u001b[0;36m<module>\u001b[1;34m\u001b[0m\n\u001b[0;32m      1\u001b[0m \u001b[1;31m# 關閉連線\u001b[0m\u001b[1;33m\u001b[0m\u001b[1;33m\u001b[0m\u001b[1;33m\u001b[0m\u001b[0m\n\u001b[0;32m      2\u001b[0m \u001b[0mcursor\u001b[0m\u001b[1;33m.\u001b[0m\u001b[0mclose\u001b[0m\u001b[1;33m(\u001b[0m\u001b[1;33m)\u001b[0m\u001b[1;33m\u001b[0m\u001b[1;33m\u001b[0m\u001b[0m\n\u001b[1;32m----> 3\u001b[1;33m \u001b[0mconn\u001b[0m\u001b[1;33m.\u001b[0m\u001b[0mclose\u001b[0m\u001b[1;33m(\u001b[0m\u001b[1;33m)\u001b[0m\u001b[1;33m\u001b[0m\u001b[1;33m\u001b[0m\u001b[0m\n\u001b[0m",
      "\u001b[1;32m~\\anaconda3\\lib\\site-packages\\pymysql\\connections.py\u001b[0m in \u001b[0;36mclose\u001b[1;34m(self)\u001b[0m\n\u001b[0;32m    402\u001b[0m         \"\"\"\n\u001b[0;32m    403\u001b[0m         \u001b[1;32mif\u001b[0m \u001b[0mself\u001b[0m\u001b[1;33m.\u001b[0m\u001b[0m_closed\u001b[0m\u001b[1;33m:\u001b[0m\u001b[1;33m\u001b[0m\u001b[1;33m\u001b[0m\u001b[0m\n\u001b[1;32m--> 404\u001b[1;33m             \u001b[1;32mraise\u001b[0m \u001b[0merr\u001b[0m\u001b[1;33m.\u001b[0m\u001b[0mError\u001b[0m\u001b[1;33m(\u001b[0m\u001b[1;34m\"Already closed\"\u001b[0m\u001b[1;33m)\u001b[0m\u001b[1;33m\u001b[0m\u001b[1;33m\u001b[0m\u001b[0m\n\u001b[0m\u001b[0;32m    405\u001b[0m         \u001b[0mself\u001b[0m\u001b[1;33m.\u001b[0m\u001b[0m_closed\u001b[0m \u001b[1;33m=\u001b[0m \u001b[1;32mTrue\u001b[0m\u001b[1;33m\u001b[0m\u001b[1;33m\u001b[0m\u001b[0m\n\u001b[0;32m    406\u001b[0m         \u001b[1;32mif\u001b[0m \u001b[0mself\u001b[0m\u001b[1;33m.\u001b[0m\u001b[0m_sock\u001b[0m \u001b[1;32mis\u001b[0m \u001b[1;32mNone\u001b[0m\u001b[1;33m:\u001b[0m\u001b[1;33m\u001b[0m\u001b[1;33m\u001b[0m\u001b[0m\n",
      "\u001b[1;31mError\u001b[0m: Already closed"
     ]
    }
   ],
   "source": [
    "# 關閉連線\n",
    "cursor.close()\n",
    "conn.close()"
   ]
  },
  {
   "cell_type": "code",
   "execution_count": null,
   "id": "ae28e84b",
   "metadata": {},
   "outputs": [],
   "source": []
  }
 ],
 "metadata": {
  "kernelspec": {
   "display_name": "Python 3",
   "language": "python",
   "name": "python3"
  },
  "language_info": {
   "codemirror_mode": {
    "name": "ipython",
    "version": 3
   },
   "file_extension": ".py",
   "mimetype": "text/x-python",
   "name": "python",
   "nbconvert_exporter": "python",
   "pygments_lexer": "ipython3",
   "version": "3.8.8"
  },
  "toc": {
   "base_numbering": 1,
   "nav_menu": {},
   "number_sections": true,
   "sideBar": true,
   "skip_h1_title": false,
   "title_cell": "Table of Contents",
   "title_sidebar": "Contents",
   "toc_cell": false,
   "toc_position": {},
   "toc_section_display": true,
   "toc_window_display": false
  }
 },
 "nbformat": 4,
 "nbformat_minor": 5
}
