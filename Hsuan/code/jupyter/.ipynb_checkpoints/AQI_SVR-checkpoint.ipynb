{
 "cells": [
  {
   "cell_type": "code",
   "execution_count": 1,
   "id": "99bb7b65",
   "metadata": {},
   "outputs": [],
   "source": [
    "from sklearn import datasets\n",
    "from sklearn.svm import SVR\n",
    "from sklearn.model_selection import train_test_split\n",
    "import joblib\n",
    "import matplotlib.pyplot as plt\n",
    "import numpy as np\n",
    "import pandas as pd\n",
    "import pymysql"
   ]
  },
  {
   "cell_type": "markdown",
   "id": "4cdfa9cd",
   "metadata": {},
   "source": [
    "## 取得資料"
   ]
  },
  {
   "cell_type": "code",
   "execution_count": 24,
   "id": "83770e15",
   "metadata": {},
   "outputs": [],
   "source": [
    "def get_data(table):\n",
    "    config = {\"host\" : \"104.155.221.250\", \"port\" : 3306, \"user\" : \"sikei\",\n",
    "          \"passwd\" : \"zxcv1234\", \"db\" : \"AQI\", \"charset\" : \"utf8mb4\"}\n",
    "\n",
    "    conn = pymysql.connect(**config) ## **會將字典型態轉變(kwargs)\n",
    "    cursor = conn.cursor()\n",
    "    \n",
    "    SQL = \"select * from {}\".format(table)\n",
    "    print('資料筆數 :',cursor.execute(SQL))\n",
    "    \n",
    "    if table == \"AQI_day\":\n",
    "        results = cursor.fetchall()\n",
    "        data = pd.DataFrame(results, columns = [\"id\", \"SiteName\", \"MonitorDate\", \"AQI\"])\n",
    "        data = data.drop(\"id\", axis=1)\n",
    "        \n",
    "    elif table == \"AQI_hour\":\n",
    "        results = cursor.fetchall()\n",
    "        data = pd.DataFrame(results, columns = [\"id\", \"SiteName\", \"County\", \"AQI\", \"SO2\", \"CO\", \"O3\", \"PM10\", \"PM25\",\n",
    "                                                \"NO2\", \"NOx\", \"NO\", \"WindSpeed\", \"WindDirec\", \"DataCreationDate\"])\n",
    "        data = data.drop(\"id\", axis=1)\n",
    "        \n",
    "    else:\n",
    "        results = cursor.fetchall()\n",
    "        data = pd.DataFrame(results)\n",
    "\n",
    "    # 關閉連線\n",
    "    cursor.close()\n",
    "    conn.close()\n",
    "    \n",
    "    return data"
   ]
  },
  {
   "cell_type": "code",
   "execution_count": 26,
   "id": "dfbece1d",
   "metadata": {
    "collapsed": true
   },
   "outputs": [
    {
     "name": "stdout",
     "output_type": "stream",
     "text": [
      "資料筆數 : 24903\n"
     ]
    },
    {
     "data": {
      "text/html": [
       "<div>\n",
       "<style scoped>\n",
       "    .dataframe tbody tr th:only-of-type {\n",
       "        vertical-align: middle;\n",
       "    }\n",
       "\n",
       "    .dataframe tbody tr th {\n",
       "        vertical-align: top;\n",
       "    }\n",
       "\n",
       "    .dataframe thead th {\n",
       "        text-align: right;\n",
       "    }\n",
       "</style>\n",
       "<table border=\"1\" class=\"dataframe\">\n",
       "  <thead>\n",
       "    <tr style=\"text-align: right;\">\n",
       "      <th></th>\n",
       "      <th>SiteName</th>\n",
       "      <th>County</th>\n",
       "      <th>AQI</th>\n",
       "      <th>SO2</th>\n",
       "      <th>CO</th>\n",
       "      <th>O3</th>\n",
       "      <th>PM10</th>\n",
       "      <th>PM25</th>\n",
       "      <th>NO2</th>\n",
       "      <th>NOx</th>\n",
       "      <th>NO</th>\n",
       "      <th>WindSpeed</th>\n",
       "      <th>WindDirec</th>\n",
       "      <th>DataCreationDate</th>\n",
       "    </tr>\n",
       "  </thead>\n",
       "  <tbody>\n",
       "    <tr>\n",
       "      <th>0</th>\n",
       "      <td>大園</td>\n",
       "      <td>桃園市</td>\n",
       "      <td>34.0</td>\n",
       "      <td>5.00</td>\n",
       "      <td>0.42</td>\n",
       "      <td>16.60</td>\n",
       "      <td>11.00</td>\n",
       "      <td>10.00</td>\n",
       "      <td>23.90</td>\n",
       "      <td>24.40</td>\n",
       "      <td>0.50</td>\n",
       "      <td>1.30</td>\n",
       "      <td>249.0</td>\n",
       "      <td>2021-06-01 00:00:00</td>\n",
       "    </tr>\n",
       "    <tr>\n",
       "      <th>1</th>\n",
       "      <td>中壢</td>\n",
       "      <td>桃園市</td>\n",
       "      <td>32.0</td>\n",
       "      <td>1.40</td>\n",
       "      <td>0.78</td>\n",
       "      <td>8.50</td>\n",
       "      <td>11.00</td>\n",
       "      <td>6.00</td>\n",
       "      <td>25.60</td>\n",
       "      <td>33.90</td>\n",
       "      <td>8.30</td>\n",
       "      <td>0.40</td>\n",
       "      <td>327.0</td>\n",
       "      <td>2021-06-01 00:00:00</td>\n",
       "    </tr>\n",
       "    <tr>\n",
       "      <th>2</th>\n",
       "      <td>龍潭</td>\n",
       "      <td>桃園市</td>\n",
       "      <td>22.0</td>\n",
       "      <td>1.70</td>\n",
       "      <td>0.29</td>\n",
       "      <td>13.70</td>\n",
       "      <td>10.00</td>\n",
       "      <td>6.00</td>\n",
       "      <td>10.20</td>\n",
       "      <td>12.00</td>\n",
       "      <td>1.80</td>\n",
       "      <td>0.40</td>\n",
       "      <td>263.0</td>\n",
       "      <td>2021-06-01 00:00:00</td>\n",
       "    </tr>\n",
       "    <tr>\n",
       "      <th>3</th>\n",
       "      <td>平鎮</td>\n",
       "      <td>桃園市</td>\n",
       "      <td>22.0</td>\n",
       "      <td>2.40</td>\n",
       "      <td>0.50</td>\n",
       "      <td>16.20</td>\n",
       "      <td>10.00</td>\n",
       "      <td>4.00</td>\n",
       "      <td>15.90</td>\n",
       "      <td>16.80</td>\n",
       "      <td>0.90</td>\n",
       "      <td>0.50</td>\n",
       "      <td>358.0</td>\n",
       "      <td>2021-06-01 00:00:00</td>\n",
       "    </tr>\n",
       "    <tr>\n",
       "      <th>4</th>\n",
       "      <td>觀音</td>\n",
       "      <td>桃園市</td>\n",
       "      <td>33.0</td>\n",
       "      <td>6.50</td>\n",
       "      <td>0.45</td>\n",
       "      <td>8.90</td>\n",
       "      <td>26.00</td>\n",
       "      <td>14.00</td>\n",
       "      <td>28.70</td>\n",
       "      <td>30.20</td>\n",
       "      <td>1.60</td>\n",
       "      <td>0.40</td>\n",
       "      <td>65.0</td>\n",
       "      <td>2021-06-01 00:00:00</td>\n",
       "    </tr>\n",
       "    <tr>\n",
       "      <th>...</th>\n",
       "      <td>...</td>\n",
       "      <td>...</td>\n",
       "      <td>...</td>\n",
       "      <td>...</td>\n",
       "      <td>...</td>\n",
       "      <td>...</td>\n",
       "      <td>...</td>\n",
       "      <td>...</td>\n",
       "      <td>...</td>\n",
       "      <td>...</td>\n",
       "      <td>...</td>\n",
       "      <td>...</td>\n",
       "      <td>...</td>\n",
       "      <td>...</td>\n",
       "    </tr>\n",
       "    <tr>\n",
       "      <th>24898</th>\n",
       "      <td>大園</td>\n",
       "      <td>桃園市</td>\n",
       "      <td>30.0</td>\n",
       "      <td>1.80</td>\n",
       "      <td>0.15</td>\n",
       "      <td>38.40</td>\n",
       "      <td>20.00</td>\n",
       "      <td>5.00</td>\n",
       "      <td>10.00</td>\n",
       "      <td>13.70</td>\n",
       "      <td>3.60</td>\n",
       "      <td>6.60</td>\n",
       "      <td>67.0</td>\n",
       "      <td>2021-11-25 15:00:00</td>\n",
       "    </tr>\n",
       "    <tr>\n",
       "      <th>24899</th>\n",
       "      <td>觀音</td>\n",
       "      <td>桃園市</td>\n",
       "      <td>36.0</td>\n",
       "      <td>0.90</td>\n",
       "      <td>0.13</td>\n",
       "      <td>41.70</td>\n",
       "      <td>25.00</td>\n",
       "      <td>4.00</td>\n",
       "      <td>5.60</td>\n",
       "      <td>6.80</td>\n",
       "      <td>1.20</td>\n",
       "      <td>6.90</td>\n",
       "      <td>47.0</td>\n",
       "      <td>2021-11-25 15:00:00</td>\n",
       "    </tr>\n",
       "    <tr>\n",
       "      <th>24900</th>\n",
       "      <td>平鎮</td>\n",
       "      <td>桃園市</td>\n",
       "      <td>30.0</td>\n",
       "      <td>2.50</td>\n",
       "      <td>0.34</td>\n",
       "      <td>27.80</td>\n",
       "      <td>30.00</td>\n",
       "      <td>8.00</td>\n",
       "      <td>16.60</td>\n",
       "      <td>21.20</td>\n",
       "      <td>4.60</td>\n",
       "      <td>2.10</td>\n",
       "      <td>54.0</td>\n",
       "      <td>2021-11-25 15:00:00</td>\n",
       "    </tr>\n",
       "    <tr>\n",
       "      <th>24901</th>\n",
       "      <td>龍潭</td>\n",
       "      <td>桃園市</td>\n",
       "      <td>30.0</td>\n",
       "      <td>None</td>\n",
       "      <td>None</td>\n",
       "      <td>28.90</td>\n",
       "      <td>None</td>\n",
       "      <td>None</td>\n",
       "      <td>None</td>\n",
       "      <td>None</td>\n",
       "      <td>None</td>\n",
       "      <td>4.40</td>\n",
       "      <td>49.0</td>\n",
       "      <td>2021-11-25 15:00:00</td>\n",
       "    </tr>\n",
       "    <tr>\n",
       "      <th>24902</th>\n",
       "      <td>中壢</td>\n",
       "      <td>桃園市</td>\n",
       "      <td>47.0</td>\n",
       "      <td>1.70</td>\n",
       "      <td>0.57</td>\n",
       "      <td>16.60</td>\n",
       "      <td>26.00</td>\n",
       "      <td>12.00</td>\n",
       "      <td>28.10</td>\n",
       "      <td>43.60</td>\n",
       "      <td>15.50</td>\n",
       "      <td>1.10</td>\n",
       "      <td>332.0</td>\n",
       "      <td>2021-11-25 15:00:00</td>\n",
       "    </tr>\n",
       "  </tbody>\n",
       "</table>\n",
       "<p>24903 rows × 14 columns</p>\n",
       "</div>"
      ],
      "text/plain": [
       "      SiteName County   AQI   SO2    CO     O3   PM10   PM25    NO2    NOx  \\\n",
       "0           大園    桃園市  34.0  5.00  0.42  16.60  11.00  10.00  23.90  24.40   \n",
       "1           中壢    桃園市  32.0  1.40  0.78   8.50  11.00   6.00  25.60  33.90   \n",
       "2           龍潭    桃園市  22.0  1.70  0.29  13.70  10.00   6.00  10.20  12.00   \n",
       "3           平鎮    桃園市  22.0  2.40  0.50  16.20  10.00   4.00  15.90  16.80   \n",
       "4           觀音    桃園市  33.0  6.50  0.45   8.90  26.00  14.00  28.70  30.20   \n",
       "...        ...    ...   ...   ...   ...    ...    ...    ...    ...    ...   \n",
       "24898       大園    桃園市  30.0  1.80  0.15  38.40  20.00   5.00  10.00  13.70   \n",
       "24899       觀音    桃園市  36.0  0.90  0.13  41.70  25.00   4.00   5.60   6.80   \n",
       "24900       平鎮    桃園市  30.0  2.50  0.34  27.80  30.00   8.00  16.60  21.20   \n",
       "24901       龍潭    桃園市  30.0  None  None  28.90   None   None   None   None   \n",
       "24902       中壢    桃園市  47.0  1.70  0.57  16.60  26.00  12.00  28.10  43.60   \n",
       "\n",
       "          NO WindSpeed  WindDirec    DataCreationDate  \n",
       "0       0.50      1.30      249.0 2021-06-01 00:00:00  \n",
       "1       8.30      0.40      327.0 2021-06-01 00:00:00  \n",
       "2       1.80      0.40      263.0 2021-06-01 00:00:00  \n",
       "3       0.90      0.50      358.0 2021-06-01 00:00:00  \n",
       "4       1.60      0.40       65.0 2021-06-01 00:00:00  \n",
       "...      ...       ...        ...                 ...  \n",
       "24898   3.60      6.60       67.0 2021-11-25 15:00:00  \n",
       "24899   1.20      6.90       47.0 2021-11-25 15:00:00  \n",
       "24900   4.60      2.10       54.0 2021-11-25 15:00:00  \n",
       "24901   None      4.40       49.0 2021-11-25 15:00:00  \n",
       "24902  15.50      1.10      332.0 2021-11-25 15:00:00  \n",
       "\n",
       "[24903 rows x 14 columns]"
      ]
     },
     "execution_count": 26,
     "metadata": {},
     "output_type": "execute_result"
    }
   ],
   "source": [
    "df = get_data(\"AQI_hour\")\n",
    "df"
   ]
  },
  {
   "cell_type": "code",
   "execution_count": 30,
   "id": "3bfa024f",
   "metadata": {},
   "outputs": [],
   "source": [
    "df.isna().sum()\n",
    "df1 = df.dropna()"
   ]
  },
  {
   "cell_type": "code",
   "execution_count": 32,
   "id": "71af06b6",
   "metadata": {},
   "outputs": [],
   "source": [
    "X = df1.iloc[:,[3,4,5,8,9,10,11,12]]\n",
    "y_pm25 = df1.iloc[:,7]\n",
    "y_pm10 = df1.iloc[:,6]"
   ]
  },
  {
   "cell_type": "code",
   "execution_count": 33,
   "id": "fd3906a5",
   "metadata": {},
   "outputs": [],
   "source": [
    "X_train, X_test, y_train, y_test = train_test_split(X, y_pm25, test_size = 0.3)"
   ]
  },
  {
   "cell_type": "code",
   "execution_count": 34,
   "id": "46d50248",
   "metadata": {},
   "outputs": [
    {
     "data": {
      "text/plain": [
       "1.0"
      ]
     },
     "execution_count": 34,
     "metadata": {},
     "output_type": "execute_result"
    }
   ],
   "source": [
    "rbfModel = SVR(kernel='rbf', C = 1e3, gamma = \"auto\")\n",
    "# 利用訓練集讓模型進行學習\n",
    "rbfModel.fit(X_train, y_train)\n",
    "y_pred = rbfModel.predict(X_test)\n",
    "rbfModel.score(X_test, y_pred)"
   ]
  },
  {
   "cell_type": "markdown",
   "id": "0f7f60e8",
   "metadata": {},
   "source": [
    "## 使用 joblib.dump 匯出預測器\n",
    "> 將訓練模型儲存起來，下次要使用時就不用再重新訓練一次"
   ]
  },
  {
   "cell_type": "code",
   "execution_count": 35,
   "id": "0d7a1b8c",
   "metadata": {},
   "outputs": [
    {
     "data": {
      "text/plain": [
       "['./machine_SVR.pkl']"
      ]
     },
     "execution_count": 35,
     "metadata": {},
     "output_type": "execute_result"
    }
   ],
   "source": [
    "joblib.dump(rbfModel,\"./machine_SVR.pkl\")"
   ]
  },
  {
   "cell_type": "markdown",
   "id": "43cbc1cf",
   "metadata": {},
   "source": [
    "## 訓練及分類"
   ]
  },
  {
   "cell_type": "code",
   "execution_count": 36,
   "id": "825b087b",
   "metadata": {},
   "outputs": [],
   "source": [
    "# 將 pkl 檔匯入為一個 SVR 預測器\n",
    "rbfModel = joblib.load(\"./machine_SVR.pkl\")\n",
    "rbfModel.fit(X, y_pm25)\n",
    "predict_y=rbfModel.predict(X)"
   ]
  },
  {
   "cell_type": "markdown",
   "id": "a0c02f5c",
   "metadata": {},
   "source": [
    "## 使用score計算準確率"
   ]
  },
  {
   "cell_type": "code",
   "execution_count": 37,
   "id": "9db8090c",
   "metadata": {},
   "outputs": [
    {
     "data": {
      "text/plain": [
       "0.9997393189891322"
      ]
     },
     "execution_count": 37,
     "metadata": {},
     "output_type": "execute_result"
    }
   ],
   "source": [
    "predict=rbfModel.predict(X)\n",
    "rbfModel.score(X, y_pm25)"
   ]
  },
  {
   "cell_type": "code",
   "execution_count": null,
   "id": "43f0ac47",
   "metadata": {},
   "outputs": [],
   "source": []
  },
  {
   "cell_type": "code",
   "execution_count": null,
   "id": "9e31ab9e",
   "metadata": {},
   "outputs": [],
   "source": []
  },
  {
   "cell_type": "code",
   "execution_count": null,
   "id": "3fd0dee7",
   "metadata": {},
   "outputs": [],
   "source": []
  },
  {
   "cell_type": "code",
   "execution_count": null,
   "id": "9c277781",
   "metadata": {},
   "outputs": [],
   "source": []
  }
 ],
 "metadata": {
  "kernelspec": {
   "display_name": "Python 3",
   "language": "python",
   "name": "python3"
  },
  "language_info": {
   "codemirror_mode": {
    "name": "ipython",
    "version": 3
   },
   "file_extension": ".py",
   "mimetype": "text/x-python",
   "name": "python",
   "nbconvert_exporter": "python",
   "pygments_lexer": "ipython3",
   "version": "3.8.8"
  },
  "toc": {
   "base_numbering": 1,
   "nav_menu": {},
   "number_sections": true,
   "sideBar": true,
   "skip_h1_title": false,
   "title_cell": "Table of Contents",
   "title_sidebar": "Contents",
   "toc_cell": false,
   "toc_position": {},
   "toc_section_display": true,
   "toc_window_display": false
  }
 },
 "nbformat": 4,
 "nbformat_minor": 5
}
