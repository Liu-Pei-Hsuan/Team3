{
 "cells": [
  {
   "cell_type": "code",
   "execution_count": 1,
   "id": "538b64af",
   "metadata": {},
   "outputs": [],
   "source": [
    "import matplotlib.pyplot as plt\n",
    "import seaborn as sns\n",
    "import numpy as np\n",
    "import pandas as pd\n",
    "import pymysql"
   ]
  },
  {
   "cell_type": "markdown",
   "id": "b242381d",
   "metadata": {},
   "source": [
    "## 取得資料"
   ]
  },
  {
   "cell_type": "code",
   "execution_count": 2,
   "id": "d3ca82a9",
   "metadata": {},
   "outputs": [
    {
     "name": "stdout",
     "output_type": "stream",
     "text": [
      "資料筆數 : 24903\n"
     ]
    }
   ],
   "source": [
    "def get_data(table):\n",
    "    config = {\"host\" : \"104.155.221.250\", \"port\" : 3306, \"user\" : \"sikei\",\n",
    "          \"passwd\" : \"zxcv1234\", \"db\" : \"AQI\", \"charset\" : \"utf8mb4\"}\n",
    "\n",
    "    conn = pymysql.connect(**config) ## **會將字典型態轉變(kwargs)\n",
    "    cursor = conn.cursor()\n",
    "    \n",
    "    SQL = \"select * from {}\".format(table)\n",
    "    print('資料筆數 :',cursor.execute(SQL))\n",
    "    \n",
    "    if table == \"AQI_day\":\n",
    "        results = cursor.fetchall()\n",
    "        data = pd.DataFrame(results, columns = [\"id\", \"SiteName\", \"MonitorDate\", \"AQI\"])\n",
    "        data = data.drop(\"id\", axis=1)\n",
    "        \n",
    "    elif table == \"AQI_hour\":\n",
    "        results = cursor.fetchall()\n",
    "        data = pd.DataFrame(results, columns = [\"id\", \"SiteName\", \"County\", \"AQI\", \"SO2\", \"CO\", \"O3\", \"PM10\", \"PM25\",\n",
    "                                                \"NO2\", \"NOx\", \"NO\", \"WindSpeed\", \"WindDirec\", \"DataCreationDate\"])\n",
    "        data = data.drop(\"id\", axis=1)\n",
    "        \n",
    "    else:\n",
    "        results = cursor.fetchall()\n",
    "        data = pd.DataFrame(results)\n",
    "\n",
    "    # 關閉連線\n",
    "    cursor.close()\n",
    "    conn.close()\n",
    "    \n",
    "    return data\n",
    "\n",
    "AQI_all = get_data(\"AQI_hour\")"
   ]
  },
  {
   "cell_type": "markdown",
   "id": "bc4e5385",
   "metadata": {},
   "source": [
    "## 先篩桃園"
   ]
  },
  {
   "cell_type": "code",
   "execution_count": 51,
   "id": "e47577b5",
   "metadata": {},
   "outputs": [
    {
     "data": {
      "text/html": [
       "<div>\n",
       "<style scoped>\n",
       "    .dataframe tbody tr th:only-of-type {\n",
       "        vertical-align: middle;\n",
       "    }\n",
       "\n",
       "    .dataframe tbody tr th {\n",
       "        vertical-align: top;\n",
       "    }\n",
       "\n",
       "    .dataframe thead th {\n",
       "        text-align: right;\n",
       "    }\n",
       "</style>\n",
       "<table border=\"1\" class=\"dataframe\">\n",
       "  <thead>\n",
       "    <tr style=\"text-align: right;\">\n",
       "      <th></th>\n",
       "      <th>SiteName</th>\n",
       "      <th>County</th>\n",
       "      <th>AQI</th>\n",
       "      <th>SO2</th>\n",
       "      <th>CO</th>\n",
       "      <th>O3</th>\n",
       "      <th>PM10</th>\n",
       "      <th>PM25</th>\n",
       "      <th>NO2</th>\n",
       "      <th>NOx</th>\n",
       "      <th>NO</th>\n",
       "      <th>WindSpeed</th>\n",
       "      <th>WindDirec</th>\n",
       "      <th>DataCreationDate</th>\n",
       "    </tr>\n",
       "  </thead>\n",
       "  <tbody>\n",
       "    <tr>\n",
       "      <th>8</th>\n",
       "      <td>桃園</td>\n",
       "      <td>桃園市</td>\n",
       "      <td>23.0</td>\n",
       "      <td>5.30</td>\n",
       "      <td>0.39</td>\n",
       "      <td>16.60</td>\n",
       "      <td>16.00</td>\n",
       "      <td>8.00</td>\n",
       "      <td>14.70</td>\n",
       "      <td>16.20</td>\n",
       "      <td>1.50</td>\n",
       "      <td>0.70</td>\n",
       "      <td>194.0</td>\n",
       "      <td>2021-06-01 01:00:00</td>\n",
       "    </tr>\n",
       "    <tr>\n",
       "      <th>14</th>\n",
       "      <td>桃園</td>\n",
       "      <td>桃園市</td>\n",
       "      <td>23.0</td>\n",
       "      <td>4.40</td>\n",
       "      <td>0.48</td>\n",
       "      <td>7.50</td>\n",
       "      <td>14.00</td>\n",
       "      <td>6.00</td>\n",
       "      <td>23.80</td>\n",
       "      <td>24.30</td>\n",
       "      <td>0.30</td>\n",
       "      <td>0.70</td>\n",
       "      <td>180.0</td>\n",
       "      <td>2021-06-01 02:00:00</td>\n",
       "    </tr>\n",
       "    <tr>\n",
       "      <th>19</th>\n",
       "      <td>桃園</td>\n",
       "      <td>桃園市</td>\n",
       "      <td>25.0</td>\n",
       "      <td>4.50</td>\n",
       "      <td>0.44</td>\n",
       "      <td>6.00</td>\n",
       "      <td>18.00</td>\n",
       "      <td>13.00</td>\n",
       "      <td>23.00</td>\n",
       "      <td>24.00</td>\n",
       "      <td>1.00</td>\n",
       "      <td>0.50</td>\n",
       "      <td>224.0</td>\n",
       "      <td>2021-06-01 03:00:00</td>\n",
       "    </tr>\n",
       "    <tr>\n",
       "      <th>30</th>\n",
       "      <td>桃園</td>\n",
       "      <td>桃園市</td>\n",
       "      <td>28.0</td>\n",
       "      <td>3.40</td>\n",
       "      <td>0.55</td>\n",
       "      <td>2.80</td>\n",
       "      <td>26.00</td>\n",
       "      <td>9.00</td>\n",
       "      <td>21.10</td>\n",
       "      <td>27.90</td>\n",
       "      <td>6.80</td>\n",
       "      <td>0.60</td>\n",
       "      <td>112.0</td>\n",
       "      <td>2021-06-01 05:00:00</td>\n",
       "    </tr>\n",
       "    <tr>\n",
       "      <th>37</th>\n",
       "      <td>桃園</td>\n",
       "      <td>桃園市</td>\n",
       "      <td>35.0</td>\n",
       "      <td>5.80</td>\n",
       "      <td>0.56</td>\n",
       "      <td>1.00</td>\n",
       "      <td>30.00</td>\n",
       "      <td>20.00</td>\n",
       "      <td>23.00</td>\n",
       "      <td>34.60</td>\n",
       "      <td>11.70</td>\n",
       "      <td>0.50</td>\n",
       "      <td>212.0</td>\n",
       "      <td>2021-06-01 06:00:00</td>\n",
       "    </tr>\n",
       "  </tbody>\n",
       "</table>\n",
       "</div>"
      ],
      "text/plain": [
       "   SiteName County   AQI   SO2    CO     O3   PM10   PM25    NO2    NOx  \\\n",
       "8        桃園    桃園市  23.0  5.30  0.39  16.60  16.00   8.00  14.70  16.20   \n",
       "14       桃園    桃園市  23.0  4.40  0.48   7.50  14.00   6.00  23.80  24.30   \n",
       "19       桃園    桃園市  25.0  4.50  0.44   6.00  18.00  13.00  23.00  24.00   \n",
       "30       桃園    桃園市  28.0  3.40  0.55   2.80  26.00   9.00  21.10  27.90   \n",
       "37       桃園    桃園市  35.0  5.80  0.56   1.00  30.00  20.00  23.00  34.60   \n",
       "\n",
       "       NO WindSpeed  WindDirec    DataCreationDate  \n",
       "8    1.50      0.70      194.0 2021-06-01 01:00:00  \n",
       "14   0.30      0.70      180.0 2021-06-01 02:00:00  \n",
       "19   1.00      0.50      224.0 2021-06-01 03:00:00  \n",
       "30   6.80      0.60      112.0 2021-06-01 05:00:00  \n",
       "37  11.70      0.50      212.0 2021-06-01 06:00:00  "
      ]
     },
     "execution_count": 51,
     "metadata": {},
     "output_type": "execute_result"
    }
   ],
   "source": [
    "AQI = AQI_all[AQI_all[\"SiteName\"] == \"桃園\"]\n",
    "AQI = AQI.dropna()\n",
    "AQI.head()"
   ]
  },
  {
   "cell_type": "markdown",
   "id": "d6c9ef65",
   "metadata": {},
   "source": [
    "### 將數值型資料改為 float"
   ]
  },
  {
   "cell_type": "code",
   "execution_count": 52,
   "id": "57cd91b4",
   "metadata": {},
   "outputs": [],
   "source": [
    "for i in AQI.columns:\n",
    "    if (i == \"SiteName\") or (i == \"County\") or (i == \"DataCreationDate\"):\n",
    "        pass\n",
    "    else:\n",
    "        AQI[\"{}\".format(i)] = AQI[\"{}\".format(i)].astype(float)"
   ]
  },
  {
   "cell_type": "code",
   "execution_count": 53,
   "id": "fb1bb818",
   "metadata": {
    "scrolled": true
   },
   "outputs": [],
   "source": [
    "AQI[\"Month\"] = \"\""
   ]
  },
  {
   "cell_type": "code",
   "execution_count": 54,
   "id": "17096331",
   "metadata": {},
   "outputs": [],
   "source": [
    "AQI.loc[(AQI.DataCreationDate >= '2021-06-01 00:00:00') & (AQI.DataCreationDate <= '2021-06-30 23:00:00'), \"Month\"] = 6\n",
    "AQI.loc[(AQI.DataCreationDate >= '2021-07-01 00:00:00') & (AQI.DataCreationDate <= '2021-07-31 23:00:00'), \"Month\"] = 7\n",
    "AQI.loc[(AQI.DataCreationDate >= '2021-08-01 00:00:00') & (AQI.DataCreationDate <= '2021-08-31 23:00:00'), \"Month\"] = 8\n",
    "AQI.loc[(AQI.DataCreationDate >= '2021-09-01 00:00:00') & (AQI.DataCreationDate <= '2021-09-30 23:00:00'), \"Month\"] = 9\n",
    "AQI.loc[(AQI.DataCreationDate >= '2021-10-01 00:00:00') & (AQI.DataCreationDate <= '2021-10-31 23:00:00'), \"Month\"] = 10\n",
    "AQI.loc[(AQI.DataCreationDate >= '2021-11-01 00:00:00') & (AQI.DataCreationDate <= '2021-11-30 23:00:00'), \"Month\"] = 11"
   ]
  },
  {
   "cell_type": "code",
   "execution_count": 57,
   "id": "9dedebee",
   "metadata": {},
   "outputs": [
    {
     "data": {
      "text/plain": [
       "Index(['SiteName', 'County', 'AQI', 'SO2', 'CO', 'O3', 'PM10', 'PM25', 'NO2',\n",
       "       'NOx', 'NO', 'WindSpeed', 'WindDirec', 'DataCreationDate', 'Month'],\n",
       "      dtype='object')"
      ]
     },
     "execution_count": 57,
     "metadata": {},
     "output_type": "execute_result"
    }
   ],
   "source": [
    "AQI.columns"
   ]
  },
  {
   "cell_type": "code",
   "execution_count": 82,
   "id": "71a4c941",
   "metadata": {},
   "outputs": [
    {
     "data": {
      "image/png": "[encoded data removed]",
      "text/plain": [
       "<Figure size 1584x720 with 12 Axes>"
      ]
     },
     "metadata": {
      "needs_background": "light"
     },
     "output_type": "display_data"
    }
   ],
   "source": [
    "plt.rcParams['font.sans-serif'] = ['Microsoft JhengHei']  # 設定字體\n",
    "plt.rcParams['axes.unicode_minus'] = False                # 用來正常顯示負號\n",
    "plt.rcParams[\"figure.figsize\"] = (22,10)\n",
    "plt.rcParams.update({'font.size': 12})\n",
    "fig,axes=plt.subplots(3,4)\n",
    "p1 = sns.boxplot(x = \"Month\", y = \"SO2\",  data = AQI, showfliers = False, ax = axes[0,0])\n",
    "p1.set(xlabel=None)\n",
    "p2 = sns.boxplot(x = \"Month\", y = \"CO\",  data = AQI, showfliers = False, ax = axes[0,1])\n",
    "p2.set(xlabel=None)\n",
    "p3 = sns.boxplot(x = \"Month\", y = \"O3\",  data = AQI, showfliers = False, ax = axes[0,2])\n",
    "p3.set(xlabel=None)\n",
    "p4 = sns.boxplot(x = \"Month\", y = \"NO2\",  data = AQI, showfliers = False, ax = axes[0,3])\n",
    "p4.set(xlabel=None)\n",
    "p5 = sns.boxplot(x = \"Month\", y = \"NOx\",  data = AQI, showfliers = False, ax = axes[1,0])\n",
    "p5.set(xlabel=None)\n",
    "p6 = sns.boxplot(x = \"Month\", y = \"NO\",  data = AQI, showfliers = False, ax = axes[1,1])\n",
    "p6.set(xlabel=None)\n",
    "p7 = sns.boxplot(x = \"Month\", y = \"WindSpeed\",  data = AQI, showfliers = False, ax = axes[1,2])\n",
    "p7.set(xlabel=None)\n",
    "p8 = sns.boxplot(x = \"Month\", y = \"WindDirec\",  data = AQI, showfliers = False, ax = axes[1,3])\n",
    "p8.set(xlabel=None)\n",
    "sns.boxplot(x = \"Month\", y = \"AQI\",  data = AQI, showfliers = False, ax = axes[2,0])\n",
    "sns.boxplot(x = \"Month\", y = \"PM25\",  data = AQI, showfliers = False, ax = axes[2,1])\n",
    "sns.boxplot(x = \"Month\", y = \"PM10\",  data = AQI, showfliers = False, ax = axes[2,2])\n",
    "plt.axis('off');\n",
    "plt.savefig('AQI_boxplot.jpg')"
   ]
  },
  {
   "cell_type": "code",
   "execution_count": 89,
   "id": "3dac3531",
   "metadata": {
    "scrolled": false
   },
   "outputs": [
    {
     "data": {
      "text/plain": [
       "359.0"
      ]
     },
     "execution_count": 89,
     "metadata": {},
     "output_type": "execute_result"
    }
   ],
   "source": [
    "if 348.75 <= degrees, degrees <= 360 { windDirection = 'N' } \n",
    "else if 0 <= degrees,degrees <= 11.25 { windDirection = 'N' } \n",
    "else if 11.25 < degrees, degrees <= 33.75 { windDirection = 'NNE' } \n",
    "else if 33.75 < degrees, degrees <= 56.25 { windDirection = 'NE' } \n",
    "else if 56.25 < degrees, degrees <= 78.75 { windDirection = 'ENE' } \n",
    "else if 78.75 < degrees, degrees <= 101.25 { windDirection = 'E' } \n",
    "else if 101.25 < degrees, degrees <= 123.75 { windDirection = 'ESE' } \n",
    "else if 123.75 < degrees, degrees <= 146.25 { windDirection = 'SE' } \n",
    "else if 146.25 < degrees, degrees <= 168.75 { windDirection = 'SSE' } \n",
    "else if 168.75 < degrees, degrees <= 191.25 { windDirection = 'S' } \n",
    "else if 191.25 < degrees, degrees <= 213.75 { windDirection = 'SSW' } \n",
    "else if 213.75 < degrees, degrees <= 236.25 { windDirection = 'SW' } \n",
    "else if 236.25 < degrees, degrees <= 258.75 { windDirection = 'WSW' } \n",
    "else if 258.75 < degrees, degrees <= 281.25 { windDirection = 'W' } \n",
    "else if 281.25 < degrees, degrees <= 303.75 { windDirection = 'WNW' } \n",
    "else if 303.75 < degrees, degrees <= 326.25 { windDirection = 'NW' } \n",
    "else if 326.25 < degrees, degrees < 348.75 { windDirection = 'NNW' } \n"
   ]
  },
  {
   "cell_type": "code",
   "execution_count": null,
   "id": "4727f408",
   "metadata": {},
   "outputs": [],
   "source": []
  }
 ],
 "metadata": {
  "kernelspec": {
   "display_name": "Python 3",
   "language": "python",
   "name": "python3"
  },
  "language_info": {
   "codemirror_mode": {
    "name": "ipython",
    "version": 3
   },
   "file_extension": ".py",
   "mimetype": "text/x-python",
   "name": "python",
   "nbconvert_exporter": "python",
   "pygments_lexer": "ipython3",
   "version": "3.8.8"
  }
 },
 "nbformat": 4,
 "nbformat_minor": 5
}
