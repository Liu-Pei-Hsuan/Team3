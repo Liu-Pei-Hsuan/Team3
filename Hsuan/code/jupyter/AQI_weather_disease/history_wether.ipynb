{
 "cells": [
  {
   "cell_type": "code",
   "execution_count": 1,
   "id": "b9b53748",
   "metadata": {},
   "outputs": [],
   "source": [
    "import os\n",
    "import requests\n",
    "import pandas as pd\n",
    "from time import sleep\n",
    "from bs4 import BeautifulSoup"
   ]
  },
  {
   "cell_type": "markdown",
   "id": "88b5fca9",
   "metadata": {},
   "source": [
    "| 測站名稱 | 測站編號 |\n",
    "| :-------:| :------: |\n",
    "| **桃園** |  C0C480  |\n",
    "| **大園** |  C0C540  |\n",
    "| **觀音** |  C0C590  |\n",
    "| **平鎮** |  C0C650  |\n",
    "| **龍潭** |  C0C670  |\n",
    "| **中壢** |  C0C700  |"
   ]
  },
  {
   "cell_type": "code",
   "execution_count": 2,
   "id": "02ac9db9",
   "metadata": {},
   "outputs": [],
   "source": [
    "# 測站編號，桃園 6 個測站編報\n",
    "twStationList = [\"C0C480\", \"C0C540\", \"C0C590\", \"C0C650\", \"C0C670\", \"C0C700\"]\n",
    "# 年份\n",
    "yearList=['2021']\n",
    "# 月份\n",
    "monthSearch = [6, 7, 8, 9, 10, 11]"
   ]
  },
  {
   "cell_type": "code",
   "execution_count": 3,
   "id": "f2839281",
   "metadata": {},
   "outputs": [
    {
     "data": {
      "text/plain": [
       "4392"
      ]
     },
     "execution_count": 3,
     "metadata": {},
     "output_type": "execute_result"
    }
   ],
   "source": [
    "### 列出年月日\n",
    "def cdateList(year):\n",
    "    # days31 (1,3,5,7,8,10,12) days30(2,4,6,9,11)\n",
    "    month31 = [1,3,5,7,8,10,12]\n",
    "    yearData = []\n",
    "    s = \"\"\n",
    "    for month in monthSearch:\n",
    "        if month in month31:\n",
    "            for day in range(1, 32):\n",
    "                for hour in range(0, 24):\n",
    "                    s = year + '/' + str(month).zfill(2) + '/' + str(day).zfill(2) + \" \" + str(hour).zfill(2) + \":00:00\"  ## zfill 指定字串長度\n",
    "                    yearData.append(s)\n",
    "        else :\n",
    "            for day in range(1, 31):\n",
    "                for hour in range(0, 24):\n",
    "                    s = year + '/' + str(month).zfill(2) + '/' + str(day).zfill(2) + \" \" + str(hour).zfill(2) + \":00:00\"  ## zfill 指定字串長度\n",
    "                    yearData.append(s)\n",
    "    return yearData\n",
    "\n",
    "for year in yearList:\n",
    "    dateList = cdateList(year)\n",
    "        \n",
    "len(dateList)"
   ]
  },
  {
   "cell_type": "code",
   "execution_count": 4,
   "id": "90585905",
   "metadata": {},
   "outputs": [],
   "source": [
    "url = \"https://e-service.cwb.gov.tw/HistoryDataQuery/DayDataController.do?command=viewMain&station=C0C480&stname=%25E6%25A1%2583%25E5%259C%2592&datepicker=2021-11-01\"\n",
    "resp = requests.get(url)\n",
    "soup = BeautifulSoup(resp.text, features=\"html.parser\")\n",
    "\n",
    "titles = soup.find_all(\"th\")\n",
    "titles = titles[11:28]\n",
    "strtitle=[]\n",
    "for title in titles:\n",
    "    title = title.contents  ## 利用 contents 來定位標籤內的文字\n",
    "    title=title[0] #+title[2]+title[4]\n",
    "    strtitle.append(title)"
   ]
  },
  {
   "cell_type": "code",
   "execution_count": 5,
   "id": "2ccb690d",
   "metadata": {},
   "outputs": [],
   "source": [
    "def history_wether(station_name, station_num):\n",
    "    new = []\n",
    "    month31 = [1,3,5,7,8,10,12]\n",
    "    for j in range(6, 12):\n",
    "        if j in month31:\n",
    "            for i in range(1,32):\n",
    "                url = \"https://e-service.cwb.gov.tw/HistoryDataQuery/DayDataController.do?command=viewMain&station={}&stname=%25E6%25A1%2583%25E5%259C%2592&datepicker=2021-{}-{}\".format(station_num, str(j).zfill(2), str(i).zfill(2))\n",
    "                resp = requests.get(url)\n",
    "                soup = BeautifulSoup(resp.text, features=\"html.parser\")\n",
    "\n",
    "                form = []\n",
    "                soup = soup.tbody\n",
    "                tmps = soup.find_all(\"tr\")\n",
    "                tmps = tmps[2:]\n",
    "                for tmp in tmps:\n",
    "                    tmp = tmp.find_all(\"td\")\n",
    "                    parameter =[]\n",
    "                    for strtmp in tmp:\n",
    "                        strtmp = strtmp.string\n",
    "                        parameter.append(strtmp)\n",
    "                    form.append(parameter)\n",
    "                new.extend(form[1:25])  \n",
    "\n",
    "        else:\n",
    "            for i in range(1, 31):\n",
    "                url = \"https://e-service.cwb.gov.tw/HistoryDataQuery/DayDataController.do?command=viewMain&station={}&stname=%25E6%25A1%2583%25E5%259C%2592&datepicker=2021-{}-{}\".format(station_num, str(j).zfill(2), str(i).zfill(2))\n",
    "                resp = requests.get(url)\n",
    "                soup = BeautifulSoup(resp.text, features=\"html.parser\")\n",
    "\n",
    "                form = []\n",
    "                soup = soup.tbody\n",
    "                tmps = soup.find_all(\"tr\")\n",
    "                tmps = tmps[2:]\n",
    "                for tmp in tmps:\n",
    "                    tmp = tmp.find_all(\"td\")\n",
    "                    parameter =[]\n",
    "                    for strtmp in tmp:\n",
    "                        strtmp = strtmp.string\n",
    "                        parameter.append(strtmp)\n",
    "                    form.append(parameter)\n",
    "                new.extend(form[1:25])  \n",
    "\n",
    "\n",
    "#     new = pd.DataFrame(new, columns=strtitle)\n",
    "#     data = new[[\"氣溫\",\"相對溼度\"]].replace(\"/\\xa0\", \"None\")\n",
    "#     data[\"DataCreationDate\"] = dateList\n",
    "#     data = data.rename({\"氣溫\": \"Temp\", \"相對溼度\": 'Humidity'}, axis=1)\n",
    "    new = pd.DataFrame(new, columns=strtitle)\n",
    "    data = new[[\"氣溫\",\"相對溼度\"]].replace(\"/\\xa0\", \"NULL\")\n",
    "    data = data.rename({\"氣溫\": \"Temp\", \"相對溼度\": \"Humidity\"}, axis=1)\n",
    "    data[\"DataCreationDate\"] = dateList\n",
    "    data[\"Temp\"] = data.Temp.str.split(\"\\xa0\", expand = True)[0]\n",
    "    data[\"Humidity\"] = data.Humidity.str.split(\"\\xa0\", expand = True)[0]\n",
    "    data\n",
    "    data.to_csv(\"C:/Users/user/OneDrive/桌面/Air/data/weather/history_{}_weather.csv\".format(station_name), encoding = \"utf_8_sig\", index = False)\n",
    "    # data"
   ]
  },
  {
   "cell_type": "markdown",
   "id": "3b4cd15a",
   "metadata": {},
   "source": [
    "## 桃園 (C0C480)"
   ]
  },
  {
   "cell_type": "code",
   "execution_count": 6,
   "id": "14fc7182",
   "metadata": {},
   "outputs": [],
   "source": [
    "Taoyuan = \"C0C480\"\n",
    "history_wether(\"Taoyuan\", \"C0C480\")"
   ]
  },
  {
   "cell_type": "markdown",
   "id": "f9daa713",
   "metadata": {},
   "source": [
    "## 大園 (C0C540)"
   ]
  },
  {
   "cell_type": "code",
   "execution_count": 7,
   "id": "f74270ea",
   "metadata": {},
   "outputs": [],
   "source": [
    "Dayuan = \"C0C540\"\n",
    "history_wether(\"Dayuan\", \"C0C540\")"
   ]
  },
  {
   "cell_type": "markdown",
   "id": "e97f78a9",
   "metadata": {},
   "source": [
    "## 觀音 (C0C590)"
   ]
  },
  {
   "cell_type": "code",
   "execution_count": 8,
   "id": "187ff383",
   "metadata": {},
   "outputs": [],
   "source": [
    "Guanyin = \"C0C590\"\n",
    "history_wether(\"Guanyin\", \"C0C590\")"
   ]
  },
  {
   "cell_type": "markdown",
   "id": "e4ad9237",
   "metadata": {},
   "source": [
    "## 平鎮 (C0C650)"
   ]
  },
  {
   "cell_type": "code",
   "execution_count": 9,
   "id": "9526f24f",
   "metadata": {},
   "outputs": [],
   "source": [
    "Pingzhen = \"C0C650\"\n",
    "history_wether(\"Pingzhen\", \"C0C650\")"
   ]
  },
  {
   "cell_type": "markdown",
   "id": "7edd36d8",
   "metadata": {},
   "source": [
    "## 龍潭 (C0C670)"
   ]
  },
  {
   "cell_type": "code",
   "execution_count": 10,
   "id": "ffdfb162",
   "metadata": {},
   "outputs": [],
   "source": [
    "Longtan = \"C0C670\"\n",
    "history_wether(\"Longtan\", \"C0C670\")"
   ]
  },
  {
   "cell_type": "markdown",
   "id": "57f004f2",
   "metadata": {},
   "source": [
    "## 中壢 (C0C700)"
   ]
  },
  {
   "cell_type": "code",
   "execution_count": 11,
   "id": "3bfbb0d8",
   "metadata": {},
   "outputs": [],
   "source": [
    "Zhongli = \"C0C700\"\n",
    "history_wether(\"Zhongli\", \"C0C700\")"
   ]
  }
 ],
 "metadata": {
  "kernelspec": {
   "display_name": "Python 3",
   "language": "python",
   "name": "python3"
  },
  "language_info": {
   "codemirror_mode": {
    "name": "ipython",
    "version": 3
   },
   "file_extension": ".py",
   "mimetype": "text/x-python",
   "name": "python",
   "nbconvert_exporter": "python",
   "pygments_lexer": "ipython3",
   "version": "3.8.8"
  },
  "toc": {
   "base_numbering": 1,
   "nav_menu": {},
   "number_sections": true,
   "sideBar": true,
   "skip_h1_title": false,
   "title_cell": "Table of Contents",
   "title_sidebar": "Contents",
   "toc_cell": false,
   "toc_position": {},
   "toc_section_display": true,
   "toc_window_display": false
  }
 },
 "nbformat": 4,
 "nbformat_minor": 5
}
