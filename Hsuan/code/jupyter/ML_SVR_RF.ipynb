{
 "cells": [
  {
   "cell_type": "code",
   "execution_count": 65,
   "id": "235dd9ac",
   "metadata": {
    "ExecuteTime": {
     "end_time": "2021-12-05T19:31:01.659740Z",
     "start_time": "2021-12-05T19:31:01.575388Z"
    }
   },
   "outputs": [],
   "source": [
    "from sklearn import datasets, metrics\n",
    "from sklearn.svm import SVR\n",
    "from sklearn.model_selection import train_test_split\n",
    "from sklearn.preprocessing import StandardScaler\n",
    "from sklearn.ensemble import RandomForestRegressor\n",
    "from math import sqrt\n",
    "import numpy as np\n",
    "import pandas as pd\n",
    "import pymysql"
   ]
  },
  {
   "cell_type": "markdown",
   "id": "2c6d239e",
   "metadata": {},
   "source": [
    "## 取得資料"
   ]
  },
  {
   "cell_type": "code",
   "execution_count": 3,
   "id": "ccc00d87",
   "metadata": {
    "ExecuteTime": {
     "end_time": "2021-12-05T18:55:46.735038Z",
     "start_time": "2021-12-05T18:55:46.706673Z"
    }
   },
   "outputs": [],
   "source": [
    "df = pd.read_csv(\"C:/Users/user/OneDrive/桌面/Air/data/Taoyuan.csv\")"
   ]
  },
  {
   "cell_type": "code",
   "execution_count": 4,
   "id": "50a4c19d",
   "metadata": {
    "ExecuteTime": {
     "end_time": "2021-12-05T18:55:47.009688Z",
     "start_time": "2021-12-05T18:55:47.003393Z"
    }
   },
   "outputs": [],
   "source": [
    "## 移除風速、風向\n",
    "del df[\"WindDirec\"]\n",
    "del df[\"WindSpeed\"]"
   ]
  },
  {
   "cell_type": "markdown",
   "id": "49d0809e",
   "metadata": {},
   "source": [
    "## 處理遺失值\n",
    "> 暫時先將遺失值刪除"
   ]
  },
  {
   "cell_type": "code",
   "execution_count": 5,
   "id": "eecda4a2",
   "metadata": {
    "ExecuteTime": {
     "end_time": "2021-12-05T18:55:47.626637Z",
     "start_time": "2021-12-05T18:55:47.600608Z"
    }
   },
   "outputs": [],
   "source": [
    "df.isna().sum()\n",
    "df1 = df.dropna()"
   ]
  },
  {
   "cell_type": "code",
   "execution_count": 6,
   "id": "373fcc69",
   "metadata": {
    "ExecuteTime": {
     "end_time": "2021-12-05T18:55:47.872355Z",
     "start_time": "2021-12-05T18:55:47.866182Z"
    }
   },
   "outputs": [],
   "source": [
    "X = df1.iloc[:,[3,4,5,8,9,10,12,13]]\n",
    "y = df1.iloc[:,7:8].values # PM2.5"
   ]
  },
  {
   "cell_type": "code",
   "execution_count": 40,
   "id": "fc46e68b",
   "metadata": {
    "ExecuteTime": {
     "end_time": "2021-12-05T19:25:16.137686Z",
     "start_time": "2021-12-05T19:25:16.130520Z"
    }
   },
   "outputs": [],
   "source": [
    "X_train, X_test, y_train, y_test = train_test_split(X, y, test_size = 0.2, random_state = 12)"
   ]
  },
  {
   "cell_type": "markdown",
   "id": "b6f4340e",
   "metadata": {},
   "source": [
    "## 標準化\n",
    "> 將所有特徵標準化，使得數據的平均值為 0，標準差為 1 (標準常態分配)。  \n",
    "> 適合使用時機於：當有些特徵的標準差過大時，使離群值影響降低，能夠有效地讓模型快速收斂"
   ]
  },
  {
   "cell_type": "code",
   "execution_count": 41,
   "id": "f6178c2f",
   "metadata": {
    "ExecuteTime": {
     "end_time": "2021-12-05T19:25:16.742268Z",
     "start_time": "2021-12-05T19:25:16.730472Z"
    }
   },
   "outputs": [],
   "source": [
    "sc_x = StandardScaler()\n",
    "sc_y = StandardScaler()\n",
    "x_train_svr = sc_x.fit_transform(X_train)\n",
    "y_train_svr = sc_y.fit_transform(y_train)"
   ]
  },
  {
   "cell_type": "markdown",
   "id": "ca2074bb",
   "metadata": {},
   "source": [
    "## 建模"
   ]
  },
  {
   "cell_type": "markdown",
   "id": "0f7c729a",
   "metadata": {},
   "source": [
    "* C: 決定給誤差/被分錯的資料「多少」懲罰值\n",
    "> C 越大，代表容錯越小，卻容易overfitting  \n",
    "> C 越小，代表容錯越大，可以追求更大的margin\n",
    "* degree: 增加模型複雜度，3 代表轉換到三次空間進行分類。\n",
    "* gamma: 數值越大越能做複雜的分類邊界。\n",
    "> gamma 大，資料點的影響力範圍比較近，對超平面來說，近點的影響力權重較大，容易勾勒出擬合近點的超平面，也容易造成 overfitting  \n",
    "> gamma 小，資料點的影響力範圍比較遠，對超平面來說，較遠的資料點也有影響力，因此能勾勒出平滑、近似直線的超平面  \n",
    "* epsilon = margin of tolerance\n",
    "> 越大，代表容忍區塊越大，越多資料會被忽視，造成模型的準確度越低  \n",
    "> 越小越接近 0，所有的資料殘差(error)都會被考慮，卻也容易造成 overfitting"
   ]
  },
  {
   "cell_type": "markdown",
   "id": "a480ec88",
   "metadata": {},
   "source": [
    "## 評估迴歸模型\n",
    "* RMSLE (Root mean square logarithmic error)  \n",
    "> RMSLE 就是 log 形式的 RMSE，與 MSPE、MAPE 一樣考慮相對誤差，但它的誤差曲線具有不對稱性喔"
   ]
  },
  {
   "cell_type": "code",
   "execution_count": 42,
   "id": "0eb7e9db",
   "metadata": {
    "ExecuteTime": {
     "end_time": "2021-12-05T19:25:17.923002Z",
     "start_time": "2021-12-05T19:25:17.917431Z"
    }
   },
   "outputs": [],
   "source": [
    "def rmsle(real, predicted):\n",
    "    sum=0.0\n",
    "    for x in range(len(predicted)):\n",
    "        if predicted[x]<0 or real[x]<0:\n",
    "            continue\n",
    "        p = np.log(predicted[x]+1)\n",
    "        r = np.log(real[x]+1)\n",
    "        sum = sum + (p - r)**2\n",
    "    return ((sum/len(predicted))**0.5)[0]"
   ]
  },
  {
   "cell_type": "markdown",
   "id": "e5b7f920",
   "metadata": {},
   "source": [
    "1. test data  \n",
    "2. training data"
   ]
  },
  {
   "cell_type": "markdown",
   "id": "bf8f4af9",
   "metadata": {},
   "source": [
    "### SVR"
   ]
  },
  {
   "cell_type": "markdown",
   "id": "f5db3ac8",
   "metadata": {},
   "source": [
    "#### linear"
   ]
  },
  {
   "cell_type": "code",
   "execution_count": 43,
   "id": "fd01b2f5",
   "metadata": {
    "ExecuteTime": {
     "end_time": "2021-12-05T19:25:20.752984Z",
     "start_time": "2021-12-05T19:25:19.023167Z"
    }
   },
   "outputs": [
    {
     "name": "stderr",
     "output_type": "stream",
     "text": [
      "C:\\ProgramData\\Anaconda3\\lib\\site-packages\\sklearn\\utils\\validation.py:63: DataConversionWarning: A column-vector y was passed when a 1d array was expected. Please change the shape of y to (n_samples, ), for example using ravel().\n",
      "  return f(*args, **kwargs)\n"
     ]
    }
   ],
   "source": [
    "############################################################ 建模 ############################################################\n",
    "svr_linear = SVR(kernel = \"linear\", C = 1)\n",
    "# 利用訓練集讓模型進行學習\n",
    "svr_linear.fit(x_train_svr, y_train_svr)\n",
    "'''\n",
    "fit_transform：是 fit 和 transform 的组合，既包括了模型訓練又包含了轉換(資料標準化)\n",
    "scaler.inverse_transform：是將標準化後的資料轉換為原始數據\n",
    "'''\n",
    "svr_linear_y_predict = sc_y.inverse_transform(svr_linear.predict(sc_x.transform(X_test)))\n",
    "\n",
    "######################################################## 評估迴歸模型 ########################################################\n",
    "### test data\n",
    "RMSE_svr_linear = sqrt(metrics.mean_squared_error(y_test, svr_linear_y_predict))\n",
    "MAE_svr_linear = metrics.mean_absolute_error(y_test, svr_linear_y_predict)\n",
    "R2_svr_linear = metrics.r2_score(y_test,svr_linear_y_predict)\n",
    "RMSLE_svr_linear = rmsle(y_test,svr_linear_y_predict)\n",
    "\n",
    "### training data\n",
    "svr_train_y_RMSE_linear = sqrt(metrics.mean_squared_error(y_train,sc_y.inverse_transform(svr_linear.predict(sc_x.transform(X_train)))))\n",
    "svr_train_y_MAE_linear = metrics.mean_absolute_error(y_train,sc_y.inverse_transform(svr_linear.predict(sc_x.transform(X_train))))\n",
    "svr_train_y_R2_linear = metrics.r2_score(y_train,sc_y.inverse_transform(svr_linear.predict(sc_x.transform(X_train))))\n",
    "svr_train_y_RMSLE_linear = rmsle(y_train,sc_y.inverse_transform(svr_linear.predict(sc_x.transform(X_train))))"
   ]
  },
  {
   "cell_type": "markdown",
   "id": "1962b240",
   "metadata": {},
   "source": [
    "#### poly"
   ]
  },
  {
   "cell_type": "code",
   "execution_count": 44,
   "id": "765f0d29",
   "metadata": {
    "ExecuteTime": {
     "end_time": "2021-12-05T19:25:23.036425Z",
     "start_time": "2021-12-05T19:25:20.754914Z"
    }
   },
   "outputs": [
    {
     "name": "stderr",
     "output_type": "stream",
     "text": [
      "C:\\ProgramData\\Anaconda3\\lib\\site-packages\\sklearn\\utils\\validation.py:63: DataConversionWarning: A column-vector y was passed when a 1d array was expected. Please change the shape of y to (n_samples, ), for example using ravel().\n",
      "  return f(*args, **kwargs)\n"
     ]
    }
   ],
   "source": [
    "############################################################ 建模 ############################################################\n",
    "svr_poly = SVR(kernel='poly', degree=3, gamma='auto', C=1)\n",
    "# 利用訓練集讓模型進行學習\n",
    "svr_poly.fit(x_train_svr, y_train_svr)\n",
    "'''\n",
    "fit_transform：是 fit 和 transform 的组合，既包括了模型訓練又包含了轉換(資料標準化)\n",
    "scaler.inverse_transform：是將標準化後的資料轉換為原始數據\n",
    "'''\n",
    "svr_poly_y_predict = sc_y.inverse_transform(svr_poly.predict(sc_x.transform(X_test)))\n",
    "\n",
    "######################################################## 評估迴歸模型 ########################################################\n",
    "### test data\n",
    "RMSE_svr_poly = sqrt(metrics.mean_squared_error(y_test, svr_poly_y_predict))\n",
    "MAE_svr_poly = metrics.mean_absolute_error(y_test, svr_poly_y_predict)\n",
    "R2_svr_poly = metrics.r2_score(y_test,svr_poly_y_predict)\n",
    "RMSLE_svr_poly = rmsle(y_test,svr_poly_y_predict)\n",
    "\n",
    "### training data\n",
    "svr_train_y_RMSE_poly = sqrt(metrics.mean_squared_error(y_train,sc_y.inverse_transform(svr_poly.predict(sc_x.transform(X_train)))))\n",
    "svr_train_y_MAE_poly = metrics.mean_absolute_error(y_train,sc_y.inverse_transform(svr_poly.predict(sc_x.transform(X_train))))\n",
    "svr_train_y_R2_poly = metrics.r2_score(y_train,sc_y.inverse_transform(svr_poly.predict(sc_x.transform(X_train))))\n",
    "svr_train_y_RMSLE_poly = rmsle(y_train,sc_y.inverse_transform(svr_poly.predict(sc_x.transform(X_train))))"
   ]
  },
  {
   "cell_type": "markdown",
   "id": "c44ce0f2",
   "metadata": {},
   "source": [
    "#### rbf"
   ]
  },
  {
   "cell_type": "code",
   "execution_count": 62,
   "id": "3c93d5e0",
   "metadata": {
    "ExecuteTime": {
     "end_time": "2021-12-05T19:27:56.753345Z",
     "start_time": "2021-12-05T19:27:52.558689Z"
    },
    "scrolled": true
   },
   "outputs": [
    {
     "name": "stderr",
     "output_type": "stream",
     "text": [
      "C:\\ProgramData\\Anaconda3\\lib\\site-packages\\sklearn\\utils\\validation.py:63: DataConversionWarning: A column-vector y was passed when a 1d array was expected. Please change the shape of y to (n_samples, ), for example using ravel().\n",
      "  return f(*args, **kwargs)\n"
     ]
    }
   ],
   "source": [
    "############################################################ 建模 ############################################################\n",
    "svr_rbf = SVR(kernel='rbf', degree=3, gamma=0.1, C=15)\n",
    "# 利用訓練集讓模型進行學習\n",
    "svr_rbf.fit(x_train_svr, y_train_svr)\n",
    "'''\n",
    "fit_transform：是 fit 和 transform 的组合，既包括了模型訓練又包含了轉換(資料標準化)\n",
    "scaler.inverse_transform：是將標準化後的資料轉換為原始數據\n",
    "'''\n",
    "svr_rbf_y_predict = sc_y.inverse_transform(svr_rbf.predict(sc_x.transform(X_test)))\n",
    "\n",
    "######################################################## 評估迴歸模型 ########################################################\n",
    "### test data\n",
    "RMSE_svr_rbf = sqrt(metrics.mean_squared_error(y_test, svr_rbf_y_predict))\n",
    "MAE_svr_rbf = metrics.mean_absolute_error(y_test, svr_rbf_y_predict)\n",
    "R2_svr_rbf = metrics.r2_score(y_test,svr_rbf_y_predict)\n",
    "RMSLE_svr_rbf = rmsle(y_test,svr_rbf_y_predict)\n",
    "\n",
    "### training data\n",
    "svr_train_y_RMSE_rbf = sqrt(metrics.mean_squared_error(y_train,sc_y.inverse_transform(svr_rbf.predict(sc_x.transform(X_train)))))\n",
    "svr_train_y_MAE_rbf = metrics.mean_absolute_error(y_train,sc_y.inverse_transform(svr_rbf.predict(sc_x.transform(X_train))))\n",
    "svr_train_y_R2_rbf = metrics.r2_score(y_train,sc_y.inverse_transform(svr_rbf.predict(sc_x.transform(X_train))))\n",
    "svr_train_y_RMSLE_rbf = rmsle(y_train,sc_y.inverse_transform(svr_rbf.predict(sc_x.transform(X_train))))"
   ]
  },
  {
   "cell_type": "markdown",
   "id": "10ea18ea",
   "metadata": {},
   "source": [
    "### Random Forest\n",
    "> random forest with 500 trees"
   ]
  },
  {
   "cell_type": "code",
   "execution_count": 71,
   "id": "c808136a",
   "metadata": {
    "ExecuteTime": {
     "end_time": "2021-12-05T19:36:09.346860Z",
     "start_time": "2021-12-05T19:36:01.641425Z"
    }
   },
   "outputs": [
    {
     "name": "stderr",
     "output_type": "stream",
     "text": [
      "<ipython-input-71-a8c6a50191df>:3: DataConversionWarning: A column-vector y was passed when a 1d array was expected. Please change the shape of y to (n_samples,), for example using ravel().\n",
      "  rf_reg.fit(X_train,y_train)\n"
     ]
    }
   ],
   "source": [
    "############################################################ 建模 ############################################################\n",
    "rf_reg = RandomForestRegressor(n_estimators = 500, random_state = 0)\n",
    "rf_reg.fit(X_train,y_train)\n",
    "\n",
    "rf_y_predict = rf_reg.predict(X_test)\n",
    "\n",
    "######################################################## 評估迴歸模型 ########################################################\n",
    "### test data\n",
    "RMSE_rf = sqrt(metrics.mean_squared_error(y_test, rf_y_predict))\n",
    "MAE_rtf = metrics.mean_absolute_error(y_test, rf_y_predict)\n",
    "R2_rf = metrics.r2_score(y_test,rf_y_predict)\n",
    "RMSLE_rf = rmsle(y_test,rf_y_predict)\n",
    "\n",
    "### training data\n",
    "rf_ytp_RMSE = sqrt(metrics.mean_squared_error(y_train, rf_reg.predict(X_train)))\n",
    "rf_ytp_MAE = metrics.mean_absolute_error(y_train, rf_reg.predict(X_train))\n",
    "rf_ytp_R2 = metrics.r2_score(y_train, rf_reg.predict(X_train))\n",
    "rf_ytp_RMSLE = rmsle(y_train, rf_reg.predict(X_train))"
   ]
  },
  {
   "cell_type": "markdown",
   "id": "87d625fb",
   "metadata": {},
   "source": [
    "## 比較表"
   ]
  },
  {
   "cell_type": "code",
   "execution_count": 70,
   "id": "316f1856",
   "metadata": {
    "ExecuteTime": {
     "end_time": "2021-12-05T19:35:00.529110Z",
     "start_time": "2021-12-05T19:35:00.513962Z"
    }
   },
   "outputs": [
    {
     "data": {
      "text/html": [
       "<div>\n",
       "<style scoped>\n",
       "    .dataframe tbody tr th:only-of-type {\n",
       "        vertical-align: middle;\n",
       "    }\n",
       "\n",
       "    .dataframe tbody tr th {\n",
       "        vertical-align: top;\n",
       "    }\n",
       "\n",
       "    .dataframe thead th {\n",
       "        text-align: right;\n",
       "    }\n",
       "</style>\n",
       "<table border=\"1\" class=\"dataframe\">\n",
       "  <thead>\n",
       "    <tr style=\"text-align: right;\">\n",
       "      <th></th>\n",
       "      <th>linear</th>\n",
       "      <th>poly</th>\n",
       "      <th>rbf</th>\n",
       "      <th>Random Forest</th>\n",
       "    </tr>\n",
       "  </thead>\n",
       "  <tbody>\n",
       "    <tr>\n",
       "      <th>RMSE</th>\n",
       "      <td>5.447</td>\n",
       "      <td>6.219</td>\n",
       "      <td>4.769</td>\n",
       "      <td>4.669</td>\n",
       "    </tr>\n",
       "    <tr>\n",
       "      <th>MAE</th>\n",
       "      <td>3.785</td>\n",
       "      <td>3.800</td>\n",
       "      <td>3.312</td>\n",
       "      <td>3.267</td>\n",
       "    </tr>\n",
       "    <tr>\n",
       "      <th>R2</th>\n",
       "      <td>0.296</td>\n",
       "      <td>0.082</td>\n",
       "      <td>0.460</td>\n",
       "      <td>0.483</td>\n",
       "    </tr>\n",
       "    <tr>\n",
       "      <th>RMSLE</th>\n",
       "      <td>0.438</td>\n",
       "      <td>0.432</td>\n",
       "      <td>0.386</td>\n",
       "      <td>0.389</td>\n",
       "    </tr>\n",
       "  </tbody>\n",
       "</table>\n",
       "</div>"
      ],
      "text/plain": [
       "       linear   poly    rbf  Random Forest\n",
       "RMSE    5.447  6.219  4.769          4.669\n",
       "MAE     3.785  3.800  3.312          3.267\n",
       "R2      0.296  0.082  0.460          0.483\n",
       "RMSLE   0.438  0.432  0.386          0.389"
      ]
     },
     "execution_count": 70,
     "metadata": {},
     "output_type": "execute_result"
    }
   ],
   "source": [
    "test_data_evalue = {\"linear\": [RMSE_svr_linear, MAE_svr_linear, R2_svr_linear , RMSLE_svr_linear],\n",
    "                    \"poly\": [RMSE_svr_poly, MAE_svr_poly, R2_svr_poly , RMSLE_svr_poly],\n",
    "                    \"rbf\": [RMSE_svr_rbf, MAE_svr_rbf, R2_svr_rbf , RMSLE_svr_rbf],\n",
    "                    \"Random Forest\":[RMSE_rf, MAE_rf, R2_rf, RMSLE_rf]}\n",
    "test_evalue = pd.DataFrame(test_data_evalue).round(3)\n",
    "test_evalue.index = [\"RMSE\", \"MAE\", \"R2\", \"RMSLE\"]\n",
    "test_evalue"
   ]
  },
  {
   "cell_type": "code",
   "execution_count": 72,
   "id": "7c35e4a6",
   "metadata": {
    "ExecuteTime": {
     "end_time": "2021-12-05T19:37:02.114270Z",
     "start_time": "2021-12-05T19:37:02.094314Z"
    },
    "scrolled": true
   },
   "outputs": [
    {
     "data": {
      "text/html": [
       "<div>\n",
       "<style scoped>\n",
       "    .dataframe tbody tr th:only-of-type {\n",
       "        vertical-align: middle;\n",
       "    }\n",
       "\n",
       "    .dataframe tbody tr th {\n",
       "        vertical-align: top;\n",
       "    }\n",
       "\n",
       "    .dataframe thead th {\n",
       "        text-align: right;\n",
       "    }\n",
       "</style>\n",
       "<table border=\"1\" class=\"dataframe\">\n",
       "  <thead>\n",
       "    <tr style=\"text-align: right;\">\n",
       "      <th></th>\n",
       "      <th>linear</th>\n",
       "      <th>poly</th>\n",
       "      <th>rbf</th>\n",
       "      <th>Random Forest</th>\n",
       "    </tr>\n",
       "  </thead>\n",
       "  <tbody>\n",
       "    <tr>\n",
       "      <th>RMSE</th>\n",
       "      <td>4.656</td>\n",
       "      <td>4.807</td>\n",
       "      <td>3.630</td>\n",
       "      <td>1.496</td>\n",
       "    </tr>\n",
       "    <tr>\n",
       "      <th>MAE</th>\n",
       "      <td>3.461</td>\n",
       "      <td>3.396</td>\n",
       "      <td>2.494</td>\n",
       "      <td>1.103</td>\n",
       "    </tr>\n",
       "    <tr>\n",
       "      <th>R2</th>\n",
       "      <td>0.381</td>\n",
       "      <td>0.340</td>\n",
       "      <td>0.624</td>\n",
       "      <td>0.936</td>\n",
       "    </tr>\n",
       "    <tr>\n",
       "      <th>RMSLE</th>\n",
       "      <td>0.419</td>\n",
       "      <td>0.420</td>\n",
       "      <td>0.341</td>\n",
       "      <td>0.163</td>\n",
       "    </tr>\n",
       "  </tbody>\n",
       "</table>\n",
       "</div>"
      ],
      "text/plain": [
       "       linear   poly    rbf  Random Forest\n",
       "RMSE    4.656  4.807  3.630          1.496\n",
       "MAE     3.461  3.396  2.494          1.103\n",
       "R2      0.381  0.340  0.624          0.936\n",
       "RMSLE   0.419  0.420  0.341          0.163"
      ]
     },
     "execution_count": 72,
     "metadata": {},
     "output_type": "execute_result"
    }
   ],
   "source": [
    "train_data_evalue = {\"linear\": [svr_train_y_RMSE_linear, svr_train_y_MAE_linear, svr_train_y_R2_linear , svr_train_y_RMSLE_linear],\n",
    "                    \"poly\": [svr_train_y_RMSE_poly, svr_train_y_MAE_poly, svr_train_y_R2_poly , svr_train_y_RMSLE_poly],\n",
    "                    \"rbf\": [svr_train_y_RMSE_rbf, svr_train_y_MAE_rbf, svr_train_y_R2_rbf , svr_train_y_RMSLE_rbf],\n",
    "                    \"Random Forest\":[rf_ytp_RMSE, rf_ytp_MAE, rf_ytp_R2, rf_ytp_RMSLE]}\n",
    "train_evalue = pd.DataFrame(train_data_evalue).round(3)\n",
    "train_evalue.index = [\"RMSE\", \"MAE\", \"R2\", \"RMSLE\"]\n",
    "train_evalue"
   ]
  }
 ],
 "metadata": {
  "kernelspec": {
   "display_name": "Python 3",
   "language": "python",
   "name": "python3"
  },
  "language_info": {
   "codemirror_mode": {
    "name": "ipython",
    "version": 3
   },
   "file_extension": ".py",
   "mimetype": "text/x-python",
   "name": "python",
   "nbconvert_exporter": "python",
   "pygments_lexer": "ipython3",
   "version": "3.8.8"
  },
  "toc": {
   "base_numbering": 1,
   "nav_menu": {},
   "number_sections": true,
   "sideBar": true,
   "skip_h1_title": false,
   "title_cell": "Table of Contents",
   "title_sidebar": "Contents",
   "toc_cell": false,
   "toc_position": {},
   "toc_section_display": true,
   "toc_window_display": false
  }
 },
 "nbformat": 4,
 "nbformat_minor": 5
}
