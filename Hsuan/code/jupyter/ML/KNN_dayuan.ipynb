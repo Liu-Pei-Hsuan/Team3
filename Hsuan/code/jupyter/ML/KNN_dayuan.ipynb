{
 "cells": [
  {
   "cell_type": "code",
   "execution_count": 3,
   "id": "5297b11c",
   "metadata": {
    "ExecuteTime": {
     "end_time": "2021-12-13T10:18:15.103343Z",
     "start_time": "2021-12-13T10:18:11.509456Z"
    }
   },
   "outputs": [],
   "source": [
    "import numpy as np\n",
    "import pandas as pd\n",
    "import pandas_profiling as pp\n",
    "import matplotlib.pyplot as plt\n",
    "import seaborn as sns\n",
    "sns.set(context=\"notebook\", style=\"darkgrid\")\n",
    "import warnings\n",
    "warnings.filterwarnings('ignore')\n",
    "%matplotlib inline\n",
    "  \n",
    "from sklearn.impute import KNNImputer"
   ]
  },
  {
   "cell_type": "code",
   "execution_count": 4,
   "id": "7b2d6a4f",
   "metadata": {
    "ExecuteTime": {
     "end_time": "2021-12-13T10:21:58.580075Z",
     "start_time": "2021-12-13T10:21:58.532895Z"
    }
   },
   "outputs": [
    {
     "data": {
      "text/html": [
       "<div>\n",
       "<style scoped>\n",
       "    .dataframe tbody tr th:only-of-type {\n",
       "        vertical-align: middle;\n",
       "    }\n",
       "\n",
       "    .dataframe tbody tr th {\n",
       "        vertical-align: top;\n",
       "    }\n",
       "\n",
       "    .dataframe thead th {\n",
       "        text-align: right;\n",
       "    }\n",
       "</style>\n",
       "<table border=\"1\" class=\"dataframe\">\n",
       "  <thead>\n",
       "    <tr style=\"text-align: right;\">\n",
       "      <th></th>\n",
       "      <th>Date</th>\n",
       "      <th>PM25</th>\n",
       "      <th>AQI</th>\n",
       "      <th>SO2</th>\n",
       "      <th>CO</th>\n",
       "      <th>O3</th>\n",
       "      <th>PM10</th>\n",
       "      <th>NO2</th>\n",
       "      <th>NOx</th>\n",
       "      <th>NO</th>\n",
       "      <th>WindSpeed</th>\n",
       "      <th>WindDirec</th>\n",
       "      <th>Temp</th>\n",
       "      <th>Humidity</th>\n",
       "    </tr>\n",
       "  </thead>\n",
       "  <tbody>\n",
       "    <tr>\n",
       "      <th>0</th>\n",
       "      <td>2021/6/1 0:00</td>\n",
       "      <td>10</td>\n",
       "      <td>34</td>\n",
       "      <td>5.0</td>\n",
       "      <td>0.42</td>\n",
       "      <td>16.6</td>\n",
       "      <td>11</td>\n",
       "      <td>23.9</td>\n",
       "      <td>24.4</td>\n",
       "      <td>0.5</td>\n",
       "      <td>1.3</td>\n",
       "      <td>249</td>\n",
       "      <td>23.5</td>\n",
       "      <td>99</td>\n",
       "    </tr>\n",
       "    <tr>\n",
       "      <th>1</th>\n",
       "      <td>2021/6/1 1:00</td>\n",
       "      <td>12</td>\n",
       "      <td>34</td>\n",
       "      <td>2.7</td>\n",
       "      <td>0.42</td>\n",
       "      <td>14.2</td>\n",
       "      <td>19</td>\n",
       "      <td>19.7</td>\n",
       "      <td>20.2</td>\n",
       "      <td>0.5</td>\n",
       "      <td>1.9</td>\n",
       "      <td>177</td>\n",
       "      <td>23.5</td>\n",
       "      <td>100</td>\n",
       "    </tr>\n",
       "    <tr>\n",
       "      <th>2</th>\n",
       "      <td>2021/6/1 2:00</td>\n",
       "      <td>11</td>\n",
       "      <td>35</td>\n",
       "      <td>3.8</td>\n",
       "      <td>0.51</td>\n",
       "      <td>8.1</td>\n",
       "      <td>19</td>\n",
       "      <td>19.7</td>\n",
       "      <td>22.4</td>\n",
       "      <td>2.7</td>\n",
       "      <td>2.1</td>\n",
       "      <td>168</td>\n",
       "      <td>23.5</td>\n",
       "      <td>100</td>\n",
       "    </tr>\n",
       "    <tr>\n",
       "      <th>3</th>\n",
       "      <td>2021/6/1 3:00</td>\n",
       "      <td>17</td>\n",
       "      <td>38</td>\n",
       "      <td>4.6</td>\n",
       "      <td>0.54</td>\n",
       "      <td>3.1</td>\n",
       "      <td>16</td>\n",
       "      <td>25.7</td>\n",
       "      <td>29.0</td>\n",
       "      <td>3.3</td>\n",
       "      <td>1.9</td>\n",
       "      <td>195</td>\n",
       "      <td>23.2</td>\n",
       "      <td>100</td>\n",
       "    </tr>\n",
       "    <tr>\n",
       "      <th>4</th>\n",
       "      <td>2021/6/1 4:00</td>\n",
       "      <td>14</td>\n",
       "      <td>40</td>\n",
       "      <td>4.5</td>\n",
       "      <td>0.43</td>\n",
       "      <td>6.7</td>\n",
       "      <td>19</td>\n",
       "      <td>20.9</td>\n",
       "      <td>24.0</td>\n",
       "      <td>3.1</td>\n",
       "      <td>1.8</td>\n",
       "      <td>262</td>\n",
       "      <td>23.4</td>\n",
       "      <td>100</td>\n",
       "    </tr>\n",
       "  </tbody>\n",
       "</table>\n",
       "</div>"
      ],
      "text/plain": [
       "            Date  PM25  AQI  SO2    CO    O3  PM10   NO2   NOx   NO  \\\n",
       "0  2021/6/1 0:00    10   34  5.0  0.42  16.6    11  23.9  24.4  0.5   \n",
       "1  2021/6/1 1:00    12   34  2.7  0.42  14.2    19  19.7  20.2  0.5   \n",
       "2  2021/6/1 2:00    11   35  3.8  0.51   8.1    19  19.7  22.4  2.7   \n",
       "3  2021/6/1 3:00    17   38  4.6  0.54   3.1    16  25.7  29.0  3.3   \n",
       "4  2021/6/1 4:00    14   40  4.5  0.43   6.7    19  20.9  24.0  3.1   \n",
       "\n",
       "   WindSpeed  WindDirec  Temp  Humidity  \n",
       "0        1.3        249  23.5        99  \n",
       "1        1.9        177  23.5       100  \n",
       "2        2.1        168  23.5       100  \n",
       "3        1.9        195  23.2       100  \n",
       "4        1.8        262  23.4       100  "
      ]
     },
     "execution_count": 4,
     "metadata": {},
     "output_type": "execute_result"
    }
   ],
   "source": [
    "#Loading the dataset\n",
    "diabetes_data = pd.read_csv('history_Dayuan_1212_2.csv')\n",
    "diabetes_data.columns = ['Date','PM25','AQI','SO2','CO','O3','PM10','NO2','NOx','NO','WindSpeed','WindDirec','Temp','Humidity']\n",
    "diabetes_data.head()"
   ]
  },
  {
   "cell_type": "code",
   "execution_count": 5,
   "id": "b060177e",
   "metadata": {
    "ExecuteTime": {
     "end_time": "2021-12-13T10:22:02.733753Z",
     "start_time": "2021-12-13T10:22:02.711206Z"
    },
    "scrolled": true
   },
   "outputs": [
    {
     "name": "stdout",
     "output_type": "stream",
     "text": [
      "Date           0\n",
      "PM25         185\n",
      "AQI            7\n",
      "SO2           56\n",
      "CO            48\n",
      "O3           128\n",
      "PM10         161\n",
      "NO2          104\n",
      "NOx          105\n",
      "NO           213\n",
      "WindSpeed     36\n",
      "WindDirec     32\n",
      "Temp          36\n",
      "Humidity      36\n",
      "dtype: int64\n"
     ]
    }
   ],
   "source": [
    "diabetes_data_copy = diabetes_data.copy(deep=True)\n",
    "diabetes_data_copy[['PM25','AQI','SO2','CO','O3','PM10','NO2','NOx','NO','WindSpeed','WindDirec','Temp','Humidity']] = diabetes_data_copy[['PM25','AQI','SO2','CO','O3','PM10','NO2','NOx','NO','WindSpeed','WindDirec','Temp','Humidity']].replace(0, np.NaN)\n",
    "  \n",
    "print(diabetes_data_copy.isnull().sum())"
   ]
  },
  {
   "cell_type": "code",
   "execution_count": 20,
   "id": "cf1e5640",
   "metadata": {
    "ExecuteTime": {
     "end_time": "2021-12-13T10:23:45.090935Z",
     "start_time": "2021-12-13T10:23:45.024654Z"
    }
   },
   "outputs": [
    {
     "name": "stdout",
     "output_type": "stream",
     "text": [
      "Date           0\n",
      "PM25           0\n",
      "AQI            7\n",
      "SO2           56\n",
      "CO            48\n",
      "O3           128\n",
      "PM10         161\n",
      "NO2          104\n",
      "NOx          105\n",
      "NO           213\n",
      "WindSpeed     36\n",
      "WindDirec     32\n",
      "Temp          36\n",
      "Humidity      36\n",
      "dtype: int64\n"
     ]
    }
   ],
   "source": [
    "imputer = KNNImputer(n_neighbors=1)\n",
    "diabetes_data_copy[['PM25']] = imputer.fit_transform(diabetes_data_copy[['PM25']])\n",
    "print(diabetes_data_copy.isnull().sum())"
   ]
  },
  {
   "cell_type": "code",
   "execution_count": 22,
   "id": "739a4c2d",
   "metadata": {
    "ExecuteTime": {
     "end_time": "2021-12-13T10:24:51.048376Z",
     "start_time": "2021-12-13T10:24:51.030396Z"
    }
   },
   "outputs": [
    {
     "name": "stdout",
     "output_type": "stream",
     "text": [
      "Date           0\n",
      "PM25           0\n",
      "AQI            0\n",
      "SO2           56\n",
      "CO            48\n",
      "O3           128\n",
      "PM10         161\n",
      "NO2          104\n",
      "NOx          105\n",
      "NO           213\n",
      "WindSpeed     36\n",
      "WindDirec     32\n",
      "Temp          36\n",
      "Humidity      36\n",
      "dtype: int64\n"
     ]
    }
   ],
   "source": [
    "imputer = KNNImputer(n_neighbors=1)\n",
    "diabetes_data_copy[['AQI']] = imputer.fit_transform(diabetes_data_copy[['AQI']])\n",
    "print(diabetes_data_copy.isnull().sum())"
   ]
  },
  {
   "cell_type": "code",
   "execution_count": 23,
   "id": "f0763ac1",
   "metadata": {
    "ExecuteTime": {
     "end_time": "2021-12-13T10:24:53.575774Z",
     "start_time": "2021-12-13T10:24:53.552513Z"
    }
   },
   "outputs": [
    {
     "name": "stdout",
     "output_type": "stream",
     "text": [
      "Date           0\n",
      "PM25           0\n",
      "AQI            0\n",
      "SO2            0\n",
      "CO            48\n",
      "O3           128\n",
      "PM10         161\n",
      "NO2          104\n",
      "NOx          105\n",
      "NO           213\n",
      "WindSpeed     36\n",
      "WindDirec     32\n",
      "Temp          36\n",
      "Humidity      36\n",
      "dtype: int64\n"
     ]
    }
   ],
   "source": [
    "imputer = KNNImputer(n_neighbors=1)\n",
    "diabetes_data_copy[['SO2']] = imputer.fit_transform(diabetes_data_copy[['SO2']])\n",
    "print(diabetes_data_copy.isnull().sum())"
   ]
  },
  {
   "cell_type": "code",
   "execution_count": 24,
   "id": "94d9223f",
   "metadata": {
    "ExecuteTime": {
     "end_time": "2021-12-13T10:24:55.177201Z",
     "start_time": "2021-12-13T10:24:55.153891Z"
    }
   },
   "outputs": [
    {
     "name": "stdout",
     "output_type": "stream",
     "text": [
      "Date           0\n",
      "PM25           0\n",
      "AQI            0\n",
      "SO2            0\n",
      "CO             0\n",
      "O3           128\n",
      "PM10         161\n",
      "NO2          104\n",
      "NOx          105\n",
      "NO           213\n",
      "WindSpeed     36\n",
      "WindDirec     32\n",
      "Temp          36\n",
      "Humidity      36\n",
      "dtype: int64\n"
     ]
    }
   ],
   "source": [
    "imputer = KNNImputer(n_neighbors=1)\n",
    "diabetes_data_copy[['CO']] = imputer.fit_transform(diabetes_data_copy[['CO']])\n",
    "print(diabetes_data_copy.isnull().sum()) "
   ]
  },
  {
   "cell_type": "code",
   "execution_count": 25,
   "id": "bc5c3c17",
   "metadata": {
    "ExecuteTime": {
     "end_time": "2021-12-13T10:24:56.745187Z",
     "start_time": "2021-12-13T10:24:56.710398Z"
    }
   },
   "outputs": [
    {
     "name": "stdout",
     "output_type": "stream",
     "text": [
      "Date           0\n",
      "PM25           0\n",
      "AQI            0\n",
      "SO2            0\n",
      "CO             0\n",
      "O3             0\n",
      "PM10         161\n",
      "NO2          104\n",
      "NOx          105\n",
      "NO           213\n",
      "WindSpeed     36\n",
      "WindDirec     32\n",
      "Temp          36\n",
      "Humidity      36\n",
      "dtype: int64\n"
     ]
    }
   ],
   "source": [
    "imputer = KNNImputer(n_neighbors=1)\n",
    "diabetes_data_copy[['O3']] = imputer.fit_transform(diabetes_data_copy[['O3']])\n",
    "print(diabetes_data_copy.isnull().sum())"
   ]
  },
  {
   "cell_type": "code",
   "execution_count": 26,
   "id": "bdd38a70",
   "metadata": {
    "ExecuteTime": {
     "end_time": "2021-12-13T10:24:58.983932Z",
     "start_time": "2021-12-13T10:24:58.939520Z"
    }
   },
   "outputs": [
    {
     "name": "stdout",
     "output_type": "stream",
     "text": [
      "Date           0\n",
      "PM25           0\n",
      "AQI            0\n",
      "SO2            0\n",
      "CO             0\n",
      "O3             0\n",
      "PM10           0\n",
      "NO2          104\n",
      "NOx          105\n",
      "NO           213\n",
      "WindSpeed     36\n",
      "WindDirec     32\n",
      "Temp          36\n",
      "Humidity      36\n",
      "dtype: int64\n"
     ]
    }
   ],
   "source": [
    "imputer = KNNImputer(n_neighbors=1)\n",
    "diabetes_data_copy[['PM10']] = imputer.fit_transform(diabetes_data_copy[['PM10']])\n",
    "print(diabetes_data_copy.isnull().sum())"
   ]
  },
  {
   "cell_type": "code",
   "execution_count": 27,
   "id": "bec9dd90",
   "metadata": {
    "ExecuteTime": {
     "end_time": "2021-12-13T10:25:00.481651Z",
     "start_time": "2021-12-13T10:25:00.446332Z"
    }
   },
   "outputs": [
    {
     "name": "stdout",
     "output_type": "stream",
     "text": [
      "Date           0\n",
      "PM25           0\n",
      "AQI            0\n",
      "SO2            0\n",
      "CO             0\n",
      "O3             0\n",
      "PM10           0\n",
      "NO2            0\n",
      "NOx          105\n",
      "NO           213\n",
      "WindSpeed     36\n",
      "WindDirec     32\n",
      "Temp          36\n",
      "Humidity      36\n",
      "dtype: int64\n"
     ]
    }
   ],
   "source": [
    "imputer = KNNImputer(n_neighbors=1)\n",
    "diabetes_data_copy[['NO2']] = imputer.fit_transform(diabetes_data_copy[['NO2']])\n",
    "print(diabetes_data_copy.isnull().sum())"
   ]
  },
  {
   "cell_type": "code",
   "execution_count": 28,
   "id": "c958b012",
   "metadata": {
    "ExecuteTime": {
     "end_time": "2021-12-13T10:25:03.990195Z",
     "start_time": "2021-12-13T10:25:03.952508Z"
    }
   },
   "outputs": [
    {
     "name": "stdout",
     "output_type": "stream",
     "text": [
      "Date           0\n",
      "PM25           0\n",
      "AQI            0\n",
      "SO2            0\n",
      "CO             0\n",
      "O3             0\n",
      "PM10           0\n",
      "NO2            0\n",
      "NOx            0\n",
      "NO           213\n",
      "WindSpeed     36\n",
      "WindDirec     32\n",
      "Temp          36\n",
      "Humidity      36\n",
      "dtype: int64\n"
     ]
    }
   ],
   "source": [
    "imputer = KNNImputer(n_neighbors=1)\n",
    "diabetes_data_copy[['NOx']] = imputer.fit_transform(diabetes_data_copy[['NOx']])\n",
    "print(diabetes_data_copy.isnull().sum())"
   ]
  },
  {
   "cell_type": "code",
   "execution_count": 29,
   "id": "584f7c5f",
   "metadata": {
    "ExecuteTime": {
     "end_time": "2021-12-13T10:25:05.801918Z",
     "start_time": "2021-12-13T10:25:05.752312Z"
    },
    "scrolled": true
   },
   "outputs": [
    {
     "name": "stdout",
     "output_type": "stream",
     "text": [
      "Date          0\n",
      "PM25          0\n",
      "AQI           0\n",
      "SO2           0\n",
      "CO            0\n",
      "O3            0\n",
      "PM10          0\n",
      "NO2           0\n",
      "NOx           0\n",
      "NO            0\n",
      "WindSpeed    36\n",
      "WindDirec    32\n",
      "Temp         36\n",
      "Humidity     36\n",
      "dtype: int64\n"
     ]
    }
   ],
   "source": [
    "imputer = KNNImputer(n_neighbors=1)\n",
    "diabetes_data_copy[['NO']] = imputer.fit_transform(diabetes_data_copy[['NO']])\n",
    "print(diabetes_data_copy.isnull().sum())"
   ]
  },
  {
   "cell_type": "code",
   "execution_count": 30,
   "id": "1888645c",
   "metadata": {
    "ExecuteTime": {
     "end_time": "2021-12-13T10:25:07.299436Z",
     "start_time": "2021-12-13T10:25:07.277136Z"
    }
   },
   "outputs": [
    {
     "name": "stdout",
     "output_type": "stream",
     "text": [
      "Date          0\n",
      "PM25          0\n",
      "AQI           0\n",
      "SO2           0\n",
      "CO            0\n",
      "O3            0\n",
      "PM10          0\n",
      "NO2           0\n",
      "NOx           0\n",
      "NO            0\n",
      "WindSpeed     0\n",
      "WindDirec    32\n",
      "Temp         36\n",
      "Humidity     36\n",
      "dtype: int64\n"
     ]
    }
   ],
   "source": [
    "imputer = KNNImputer(n_neighbors=1)\n",
    "diabetes_data_copy[['WindSpeed']] = imputer.fit_transform(diabetes_data_copy[['WindSpeed']])\n",
    "print(diabetes_data_copy.isnull().sum())"
   ]
  },
  {
   "cell_type": "code",
   "execution_count": 31,
   "id": "db1c7d94",
   "metadata": {
    "ExecuteTime": {
     "end_time": "2021-12-13T10:25:08.806984Z",
     "start_time": "2021-12-13T10:25:08.786461Z"
    }
   },
   "outputs": [
    {
     "name": "stdout",
     "output_type": "stream",
     "text": [
      "Date          0\n",
      "PM25          0\n",
      "AQI           0\n",
      "SO2           0\n",
      "CO            0\n",
      "O3            0\n",
      "PM10          0\n",
      "NO2           0\n",
      "NOx           0\n",
      "NO            0\n",
      "WindSpeed     0\n",
      "WindDirec     0\n",
      "Temp         36\n",
      "Humidity     36\n",
      "dtype: int64\n"
     ]
    }
   ],
   "source": [
    "imputer = KNNImputer(n_neighbors=1)\n",
    "diabetes_data_copy[['WindDirec']] = imputer.fit_transform(diabetes_data_copy[['WindDirec']])\n",
    "print(diabetes_data_copy.isnull().sum())"
   ]
  },
  {
   "cell_type": "code",
   "execution_count": 32,
   "id": "aa3a2c11",
   "metadata": {
    "ExecuteTime": {
     "end_time": "2021-12-13T10:25:10.458230Z",
     "start_time": "2021-12-13T10:25:10.435927Z"
    }
   },
   "outputs": [
    {
     "name": "stdout",
     "output_type": "stream",
     "text": [
      "Date          0\n",
      "PM25          0\n",
      "AQI           0\n",
      "SO2           0\n",
      "CO            0\n",
      "O3            0\n",
      "PM10          0\n",
      "NO2           0\n",
      "NOx           0\n",
      "NO            0\n",
      "WindSpeed     0\n",
      "WindDirec     0\n",
      "Temp          0\n",
      "Humidity     36\n",
      "dtype: int64\n"
     ]
    }
   ],
   "source": [
    "imputer = KNNImputer(n_neighbors=1)\n",
    "diabetes_data_copy[['Temp']] = imputer.fit_transform(diabetes_data_copy[['Temp']])\n",
    "print(diabetes_data_copy.isnull().sum())"
   ]
  },
  {
   "cell_type": "code",
   "execution_count": 33,
   "id": "45c4770b",
   "metadata": {
    "ExecuteTime": {
     "end_time": "2021-12-13T10:25:12.327245Z",
     "start_time": "2021-12-13T10:25:12.304331Z"
    }
   },
   "outputs": [
    {
     "name": "stdout",
     "output_type": "stream",
     "text": [
      "Date         0\n",
      "PM25         0\n",
      "AQI          0\n",
      "SO2          0\n",
      "CO           0\n",
      "O3           0\n",
      "PM10         0\n",
      "NO2          0\n",
      "NOx          0\n",
      "NO           0\n",
      "WindSpeed    0\n",
      "WindDirec    0\n",
      "Temp         0\n",
      "Humidity     0\n",
      "dtype: int64\n"
     ]
    }
   ],
   "source": [
    "imputer = KNNImputer(n_neighbors=1)\n",
    "diabetes_data_copy[['Humidity']] = imputer.fit_transform(diabetes_data_copy[['Humidity']])\n",
    "print(diabetes_data_copy.isnull().sum())"
   ]
  },
  {
   "cell_type": "code",
   "execution_count": 38,
   "id": "355a99d2",
   "metadata": {
    "ExecuteTime": {
     "end_time": "2021-12-13T10:28:06.688730Z",
     "start_time": "2021-12-13T10:28:06.638613Z"
    }
   },
   "outputs": [
    {
     "data": {
      "text/html": [
       "<div>\n",
       "<style scoped>\n",
       "    .dataframe tbody tr th:only-of-type {\n",
       "        vertical-align: middle;\n",
       "    }\n",
       "\n",
       "    .dataframe tbody tr th {\n",
       "        vertical-align: top;\n",
       "    }\n",
       "\n",
       "    .dataframe thead th {\n",
       "        text-align: right;\n",
       "    }\n",
       "</style>\n",
       "<table border=\"1\" class=\"dataframe\">\n",
       "  <thead>\n",
       "    <tr style=\"text-align: right;\">\n",
       "      <th></th>\n",
       "      <th>PM25</th>\n",
       "      <th>AQI</th>\n",
       "      <th>SO2</th>\n",
       "      <th>CO</th>\n",
       "      <th>O3</th>\n",
       "      <th>PM10</th>\n",
       "      <th>NO2</th>\n",
       "      <th>NOx</th>\n",
       "      <th>NO</th>\n",
       "      <th>WindSpeed</th>\n",
       "      <th>WindDirec</th>\n",
       "      <th>Temp</th>\n",
       "      <th>Humidity</th>\n",
       "    </tr>\n",
       "  </thead>\n",
       "  <tbody>\n",
       "    <tr>\n",
       "      <th>count</th>\n",
       "      <td>4279.000000</td>\n",
       "      <td>4279.000000</td>\n",
       "      <td>4279.000000</td>\n",
       "      <td>4279.000000</td>\n",
       "      <td>4279.000000</td>\n",
       "      <td>4279.000000</td>\n",
       "      <td>4279.000000</td>\n",
       "      <td>4279.000000</td>\n",
       "      <td>4279.000000</td>\n",
       "      <td>4279.000000</td>\n",
       "      <td>4279.000000</td>\n",
       "      <td>4279.000000</td>\n",
       "      <td>4279.000000</td>\n",
       "    </tr>\n",
       "    <tr>\n",
       "      <th>mean</th>\n",
       "      <td>9.179014</td>\n",
       "      <td>35.332554</td>\n",
       "      <td>2.063566</td>\n",
       "      <td>0.209091</td>\n",
       "      <td>26.938420</td>\n",
       "      <td>21.141622</td>\n",
       "      <td>10.218789</td>\n",
       "      <td>12.533326</td>\n",
       "      <td>2.285090</td>\n",
       "      <td>3.859196</td>\n",
       "      <td>146.910259</td>\n",
       "      <td>27.114396</td>\n",
       "      <td>77.528628</td>\n",
       "    </tr>\n",
       "    <tr>\n",
       "      <th>std</th>\n",
       "      <td>5.824873</td>\n",
       "      <td>12.159200</td>\n",
       "      <td>1.023402</td>\n",
       "      <td>0.098355</td>\n",
       "      <td>15.215898</td>\n",
       "      <td>11.571294</td>\n",
       "      <td>6.487970</td>\n",
       "      <td>7.946163</td>\n",
       "      <td>2.614643</td>\n",
       "      <td>2.210292</td>\n",
       "      <td>91.787650</td>\n",
       "      <td>5.073938</td>\n",
       "      <td>15.479905</td>\n",
       "    </tr>\n",
       "    <tr>\n",
       "      <th>min</th>\n",
       "      <td>0.000000</td>\n",
       "      <td>0.000000</td>\n",
       "      <td>0.000000</td>\n",
       "      <td>0.000000</td>\n",
       "      <td>0.000000</td>\n",
       "      <td>0.000000</td>\n",
       "      <td>0.000000</td>\n",
       "      <td>0.000000</td>\n",
       "      <td>0.000000</td>\n",
       "      <td>0.000000</td>\n",
       "      <td>0.000000</td>\n",
       "      <td>0.000000</td>\n",
       "      <td>0.000000</td>\n",
       "    </tr>\n",
       "    <tr>\n",
       "      <th>25%</th>\n",
       "      <td>5.000000</td>\n",
       "      <td>27.000000</td>\n",
       "      <td>1.400000</td>\n",
       "      <td>0.140000</td>\n",
       "      <td>15.200000</td>\n",
       "      <td>14.000000</td>\n",
       "      <td>5.500000</td>\n",
       "      <td>6.900000</td>\n",
       "      <td>0.800000</td>\n",
       "      <td>2.000000</td>\n",
       "      <td>67.500000</td>\n",
       "      <td>25.200000</td>\n",
       "      <td>67.000000</td>\n",
       "    </tr>\n",
       "    <tr>\n",
       "      <th>50%</th>\n",
       "      <td>8.000000</td>\n",
       "      <td>34.000000</td>\n",
       "      <td>1.900000</td>\n",
       "      <td>0.190000</td>\n",
       "      <td>26.800000</td>\n",
       "      <td>20.000000</td>\n",
       "      <td>9.000000</td>\n",
       "      <td>10.900000</td>\n",
       "      <td>1.500000</td>\n",
       "      <td>3.600000</td>\n",
       "      <td>132.000000</td>\n",
       "      <td>27.800000</td>\n",
       "      <td>78.000000</td>\n",
       "    </tr>\n",
       "    <tr>\n",
       "      <th>75%</th>\n",
       "      <td>12.000000</td>\n",
       "      <td>41.000000</td>\n",
       "      <td>2.500000</td>\n",
       "      <td>0.250000</td>\n",
       "      <td>38.000000</td>\n",
       "      <td>27.000000</td>\n",
       "      <td>13.700000</td>\n",
       "      <td>16.300000</td>\n",
       "      <td>3.000000</td>\n",
       "      <td>5.400000</td>\n",
       "      <td>228.000000</td>\n",
       "      <td>30.400000</td>\n",
       "      <td>88.000000</td>\n",
       "    </tr>\n",
       "    <tr>\n",
       "      <th>max</th>\n",
       "      <td>55.000000</td>\n",
       "      <td>126.000000</td>\n",
       "      <td>19.000000</td>\n",
       "      <td>0.890000</td>\n",
       "      <td>87.800000</td>\n",
       "      <td>138.000000</td>\n",
       "      <td>48.100000</td>\n",
       "      <td>80.300000</td>\n",
       "      <td>39.600000</td>\n",
       "      <td>11.800000</td>\n",
       "      <td>360.000000</td>\n",
       "      <td>37.400000</td>\n",
       "      <td>100.000000</td>\n",
       "    </tr>\n",
       "  </tbody>\n",
       "</table>\n",
       "</div>"
      ],
      "text/plain": [
       "              PM25          AQI          SO2           CO           O3  \\\n",
       "count  4279.000000  4279.000000  4279.000000  4279.000000  4279.000000   \n",
       "mean      9.179014    35.332554     2.063566     0.209091    26.938420   \n",
       "std       5.824873    12.159200     1.023402     0.098355    15.215898   \n",
       "min       0.000000     0.000000     0.000000     0.000000     0.000000   \n",
       "25%       5.000000    27.000000     1.400000     0.140000    15.200000   \n",
       "50%       8.000000    34.000000     1.900000     0.190000    26.800000   \n",
       "75%      12.000000    41.000000     2.500000     0.250000    38.000000   \n",
       "max      55.000000   126.000000    19.000000     0.890000    87.800000   \n",
       "\n",
       "              PM10          NO2          NOx           NO    WindSpeed  \\\n",
       "count  4279.000000  4279.000000  4279.000000  4279.000000  4279.000000   \n",
       "mean     21.141622    10.218789    12.533326     2.285090     3.859196   \n",
       "std      11.571294     6.487970     7.946163     2.614643     2.210292   \n",
       "min       0.000000     0.000000     0.000000     0.000000     0.000000   \n",
       "25%      14.000000     5.500000     6.900000     0.800000     2.000000   \n",
       "50%      20.000000     9.000000    10.900000     1.500000     3.600000   \n",
       "75%      27.000000    13.700000    16.300000     3.000000     5.400000   \n",
       "max     138.000000    48.100000    80.300000    39.600000    11.800000   \n",
       "\n",
       "         WindDirec         Temp     Humidity  \n",
       "count  4279.000000  4279.000000  4279.000000  \n",
       "mean    146.910259    27.114396    77.528628  \n",
       "std      91.787650     5.073938    15.479905  \n",
       "min       0.000000     0.000000     0.000000  \n",
       "25%      67.500000    25.200000    67.000000  \n",
       "50%     132.000000    27.800000    78.000000  \n",
       "75%     228.000000    30.400000    88.000000  \n",
       "max     360.000000    37.400000   100.000000  "
      ]
     },
     "execution_count": 38,
     "metadata": {},
     "output_type": "execute_result"
    }
   ],
   "source": [
    "diabetes_data.describe()"
   ]
  },
  {
   "cell_type": "code",
   "execution_count": 37,
   "id": "e492d658",
   "metadata": {
    "ExecuteTime": {
     "end_time": "2021-12-13T10:27:41.473446Z",
     "start_time": "2021-12-13T10:27:41.418391Z"
    }
   },
   "outputs": [
    {
     "data": {
      "text/html": [
       "<div>\n",
       "<style scoped>\n",
       "    .dataframe tbody tr th:only-of-type {\n",
       "        vertical-align: middle;\n",
       "    }\n",
       "\n",
       "    .dataframe tbody tr th {\n",
       "        vertical-align: top;\n",
       "    }\n",
       "\n",
       "    .dataframe thead th {\n",
       "        text-align: right;\n",
       "    }\n",
       "</style>\n",
       "<table border=\"1\" class=\"dataframe\">\n",
       "  <thead>\n",
       "    <tr style=\"text-align: right;\">\n",
       "      <th></th>\n",
       "      <th>PM25</th>\n",
       "      <th>AQI</th>\n",
       "      <th>SO2</th>\n",
       "      <th>CO</th>\n",
       "      <th>O3</th>\n",
       "      <th>PM10</th>\n",
       "      <th>NO2</th>\n",
       "      <th>NOx</th>\n",
       "      <th>NO</th>\n",
       "      <th>WindSpeed</th>\n",
       "      <th>WindDirec</th>\n",
       "      <th>Temp</th>\n",
       "      <th>Humidity</th>\n",
       "    </tr>\n",
       "  </thead>\n",
       "  <tbody>\n",
       "    <tr>\n",
       "      <th>count</th>\n",
       "      <td>4279.000000</td>\n",
       "      <td>4279.000000</td>\n",
       "      <td>4279.000000</td>\n",
       "      <td>4279.000000</td>\n",
       "      <td>4279.000000</td>\n",
       "      <td>4279.000000</td>\n",
       "      <td>4279.000000</td>\n",
       "      <td>4279.00000</td>\n",
       "      <td>4279.000000</td>\n",
       "      <td>4279.000000</td>\n",
       "      <td>4279.000000</td>\n",
       "      <td>4279.000000</td>\n",
       "      <td>4279.000000</td>\n",
       "    </tr>\n",
       "    <tr>\n",
       "      <th>mean</th>\n",
       "      <td>9.593796</td>\n",
       "      <td>35.390449</td>\n",
       "      <td>2.090931</td>\n",
       "      <td>0.211463</td>\n",
       "      <td>27.769092</td>\n",
       "      <td>21.968188</td>\n",
       "      <td>10.473341</td>\n",
       "      <td>12.84861</td>\n",
       "      <td>2.404796</td>\n",
       "      <td>3.891940</td>\n",
       "      <td>148.017189</td>\n",
       "      <td>27.344450</td>\n",
       "      <td>78.186425</td>\n",
       "    </tr>\n",
       "    <tr>\n",
       "      <th>std</th>\n",
       "      <td>5.488257</td>\n",
       "      <td>12.074770</td>\n",
       "      <td>0.995425</td>\n",
       "      <td>0.095800</td>\n",
       "      <td>14.461720</td>\n",
       "      <td>10.789616</td>\n",
       "      <td>6.284261</td>\n",
       "      <td>7.69344</td>\n",
       "      <td>2.561787</td>\n",
       "      <td>2.181512</td>\n",
       "      <td>90.897280</td>\n",
       "      <td>4.416516</td>\n",
       "      <td>13.733808</td>\n",
       "    </tr>\n",
       "    <tr>\n",
       "      <th>min</th>\n",
       "      <td>1.000000</td>\n",
       "      <td>7.000000</td>\n",
       "      <td>0.100000</td>\n",
       "      <td>0.040000</td>\n",
       "      <td>0.100000</td>\n",
       "      <td>1.000000</td>\n",
       "      <td>0.300000</td>\n",
       "      <td>0.80000</td>\n",
       "      <td>0.100000</td>\n",
       "      <td>0.100000</td>\n",
       "      <td>1.000000</td>\n",
       "      <td>10.300000</td>\n",
       "      <td>36.000000</td>\n",
       "    </tr>\n",
       "    <tr>\n",
       "      <th>25%</th>\n",
       "      <td>6.000000</td>\n",
       "      <td>27.000000</td>\n",
       "      <td>1.500000</td>\n",
       "      <td>0.150000</td>\n",
       "      <td>16.600000</td>\n",
       "      <td>15.000000</td>\n",
       "      <td>5.800000</td>\n",
       "      <td>7.20000</td>\n",
       "      <td>0.900000</td>\n",
       "      <td>2.000000</td>\n",
       "      <td>69.000000</td>\n",
       "      <td>25.400000</td>\n",
       "      <td>68.000000</td>\n",
       "    </tr>\n",
       "    <tr>\n",
       "      <th>50%</th>\n",
       "      <td>9.000000</td>\n",
       "      <td>34.000000</td>\n",
       "      <td>1.900000</td>\n",
       "      <td>0.200000</td>\n",
       "      <td>27.769092</td>\n",
       "      <td>21.000000</td>\n",
       "      <td>9.300000</td>\n",
       "      <td>11.40000</td>\n",
       "      <td>1.700000</td>\n",
       "      <td>3.700000</td>\n",
       "      <td>136.000000</td>\n",
       "      <td>27.800000</td>\n",
       "      <td>78.000000</td>\n",
       "    </tr>\n",
       "    <tr>\n",
       "      <th>75%</th>\n",
       "      <td>12.000000</td>\n",
       "      <td>41.000000</td>\n",
       "      <td>2.500000</td>\n",
       "      <td>0.250000</td>\n",
       "      <td>38.000000</td>\n",
       "      <td>27.000000</td>\n",
       "      <td>13.700000</td>\n",
       "      <td>16.30000</td>\n",
       "      <td>3.000000</td>\n",
       "      <td>5.400000</td>\n",
       "      <td>228.000000</td>\n",
       "      <td>30.400000</td>\n",
       "      <td>88.000000</td>\n",
       "    </tr>\n",
       "    <tr>\n",
       "      <th>max</th>\n",
       "      <td>55.000000</td>\n",
       "      <td>126.000000</td>\n",
       "      <td>19.000000</td>\n",
       "      <td>0.890000</td>\n",
       "      <td>87.800000</td>\n",
       "      <td>138.000000</td>\n",
       "      <td>48.100000</td>\n",
       "      <td>80.30000</td>\n",
       "      <td>39.600000</td>\n",
       "      <td>11.800000</td>\n",
       "      <td>360.000000</td>\n",
       "      <td>37.400000</td>\n",
       "      <td>100.000000</td>\n",
       "    </tr>\n",
       "  </tbody>\n",
       "</table>\n",
       "</div>"
      ],
      "text/plain": [
       "              PM25          AQI          SO2           CO           O3  \\\n",
       "count  4279.000000  4279.000000  4279.000000  4279.000000  4279.000000   \n",
       "mean      9.593796    35.390449     2.090931     0.211463    27.769092   \n",
       "std       5.488257    12.074770     0.995425     0.095800    14.461720   \n",
       "min       1.000000     7.000000     0.100000     0.040000     0.100000   \n",
       "25%       6.000000    27.000000     1.500000     0.150000    16.600000   \n",
       "50%       9.000000    34.000000     1.900000     0.200000    27.769092   \n",
       "75%      12.000000    41.000000     2.500000     0.250000    38.000000   \n",
       "max      55.000000   126.000000    19.000000     0.890000    87.800000   \n",
       "\n",
       "              PM10          NO2         NOx           NO    WindSpeed  \\\n",
       "count  4279.000000  4279.000000  4279.00000  4279.000000  4279.000000   \n",
       "mean     21.968188    10.473341    12.84861     2.404796     3.891940   \n",
       "std      10.789616     6.284261     7.69344     2.561787     2.181512   \n",
       "min       1.000000     0.300000     0.80000     0.100000     0.100000   \n",
       "25%      15.000000     5.800000     7.20000     0.900000     2.000000   \n",
       "50%      21.000000     9.300000    11.40000     1.700000     3.700000   \n",
       "75%      27.000000    13.700000    16.30000     3.000000     5.400000   \n",
       "max     138.000000    48.100000    80.30000    39.600000    11.800000   \n",
       "\n",
       "         WindDirec         Temp     Humidity  \n",
       "count  4279.000000  4279.000000  4279.000000  \n",
       "mean    148.017189    27.344450    78.186425  \n",
       "std      90.897280     4.416516    13.733808  \n",
       "min       1.000000    10.300000    36.000000  \n",
       "25%      69.000000    25.400000    68.000000  \n",
       "50%     136.000000    27.800000    78.000000  \n",
       "75%     228.000000    30.400000    88.000000  \n",
       "max     360.000000    37.400000   100.000000  "
      ]
     },
     "execution_count": 37,
     "metadata": {},
     "output_type": "execute_result"
    }
   ],
   "source": [
    "diabetes_data_copy.describe()"
   ]
  },
  {
   "cell_type": "code",
   "execution_count": 39,
   "id": "561a0368",
   "metadata": {
    "ExecuteTime": {
     "end_time": "2021-12-13T10:30:41.818705Z",
     "start_time": "2021-12-13T10:30:41.792096Z"
    }
   },
   "outputs": [
    {
     "data": {
      "text/html": [
       "<div>\n",
       "<style scoped>\n",
       "    .dataframe tbody tr th:only-of-type {\n",
       "        vertical-align: middle;\n",
       "    }\n",
       "\n",
       "    .dataframe tbody tr th {\n",
       "        vertical-align: top;\n",
       "    }\n",
       "\n",
       "    .dataframe thead th {\n",
       "        text-align: right;\n",
       "    }\n",
       "</style>\n",
       "<table border=\"1\" class=\"dataframe\">\n",
       "  <thead>\n",
       "    <tr style=\"text-align: right;\">\n",
       "      <th></th>\n",
       "      <th>Date</th>\n",
       "      <th>PM25</th>\n",
       "      <th>AQI</th>\n",
       "      <th>SO2</th>\n",
       "      <th>CO</th>\n",
       "      <th>O3</th>\n",
       "      <th>PM10</th>\n",
       "      <th>NO2</th>\n",
       "      <th>NOx</th>\n",
       "      <th>NO</th>\n",
       "      <th>WindSpeed</th>\n",
       "      <th>WindDirec</th>\n",
       "      <th>Temp</th>\n",
       "      <th>Humidity</th>\n",
       "    </tr>\n",
       "  </thead>\n",
       "  <tbody>\n",
       "    <tr>\n",
       "      <th>0</th>\n",
       "      <td>2021/6/1 0:00</td>\n",
       "      <td>10.0</td>\n",
       "      <td>34.0</td>\n",
       "      <td>5.0</td>\n",
       "      <td>0.42</td>\n",
       "      <td>16.6</td>\n",
       "      <td>11.0</td>\n",
       "      <td>23.9</td>\n",
       "      <td>24.4</td>\n",
       "      <td>0.5</td>\n",
       "      <td>1.3</td>\n",
       "      <td>249.0</td>\n",
       "      <td>23.5</td>\n",
       "      <td>99.0</td>\n",
       "    </tr>\n",
       "    <tr>\n",
       "      <th>1</th>\n",
       "      <td>2021/6/1 1:00</td>\n",
       "      <td>12.0</td>\n",
       "      <td>34.0</td>\n",
       "      <td>2.7</td>\n",
       "      <td>0.42</td>\n",
       "      <td>14.2</td>\n",
       "      <td>19.0</td>\n",
       "      <td>19.7</td>\n",
       "      <td>20.2</td>\n",
       "      <td>0.5</td>\n",
       "      <td>1.9</td>\n",
       "      <td>177.0</td>\n",
       "      <td>23.5</td>\n",
       "      <td>100.0</td>\n",
       "    </tr>\n",
       "    <tr>\n",
       "      <th>2</th>\n",
       "      <td>2021/6/1 2:00</td>\n",
       "      <td>11.0</td>\n",
       "      <td>35.0</td>\n",
       "      <td>3.8</td>\n",
       "      <td>0.51</td>\n",
       "      <td>8.1</td>\n",
       "      <td>19.0</td>\n",
       "      <td>19.7</td>\n",
       "      <td>22.4</td>\n",
       "      <td>2.7</td>\n",
       "      <td>2.1</td>\n",
       "      <td>168.0</td>\n",
       "      <td>23.5</td>\n",
       "      <td>100.0</td>\n",
       "    </tr>\n",
       "    <tr>\n",
       "      <th>3</th>\n",
       "      <td>2021/6/1 3:00</td>\n",
       "      <td>17.0</td>\n",
       "      <td>38.0</td>\n",
       "      <td>4.6</td>\n",
       "      <td>0.54</td>\n",
       "      <td>3.1</td>\n",
       "      <td>16.0</td>\n",
       "      <td>25.7</td>\n",
       "      <td>29.0</td>\n",
       "      <td>3.3</td>\n",
       "      <td>1.9</td>\n",
       "      <td>195.0</td>\n",
       "      <td>23.2</td>\n",
       "      <td>100.0</td>\n",
       "    </tr>\n",
       "    <tr>\n",
       "      <th>4</th>\n",
       "      <td>2021/6/1 4:00</td>\n",
       "      <td>14.0</td>\n",
       "      <td>40.0</td>\n",
       "      <td>4.5</td>\n",
       "      <td>0.43</td>\n",
       "      <td>6.7</td>\n",
       "      <td>19.0</td>\n",
       "      <td>20.9</td>\n",
       "      <td>24.0</td>\n",
       "      <td>3.1</td>\n",
       "      <td>1.8</td>\n",
       "      <td>262.0</td>\n",
       "      <td>23.4</td>\n",
       "      <td>100.0</td>\n",
       "    </tr>\n",
       "  </tbody>\n",
       "</table>\n",
       "</div>"
      ],
      "text/plain": [
       "            Date  PM25   AQI  SO2    CO    O3  PM10   NO2   NOx   NO  \\\n",
       "0  2021/6/1 0:00  10.0  34.0  5.0  0.42  16.6  11.0  23.9  24.4  0.5   \n",
       "1  2021/6/1 1:00  12.0  34.0  2.7  0.42  14.2  19.0  19.7  20.2  0.5   \n",
       "2  2021/6/1 2:00  11.0  35.0  3.8  0.51   8.1  19.0  19.7  22.4  2.7   \n",
       "3  2021/6/1 3:00  17.0  38.0  4.6  0.54   3.1  16.0  25.7  29.0  3.3   \n",
       "4  2021/6/1 4:00  14.0  40.0  4.5  0.43   6.7  19.0  20.9  24.0  3.1   \n",
       "\n",
       "   WindSpeed  WindDirec  Temp  Humidity  \n",
       "0        1.3      249.0  23.5      99.0  \n",
       "1        1.9      177.0  23.5     100.0  \n",
       "2        2.1      168.0  23.5     100.0  \n",
       "3        1.9      195.0  23.2     100.0  \n",
       "4        1.8      262.0  23.4     100.0  "
      ]
     },
     "execution_count": 39,
     "metadata": {},
     "output_type": "execute_result"
    }
   ],
   "source": [
    "diabetes_data_copy.head()"
   ]
  },
  {
   "cell_type": "code",
   "execution_count": 143,
   "id": "10219ad1",
   "metadata": {
    "ExecuteTime": {
     "end_time": "2021-12-08T17:07:26.954307Z",
     "start_time": "2021-12-08T17:07:26.895409Z"
    }
   },
   "outputs": [],
   "source": [
    "diabetes_data_copy.to_csv(r'C:\\Users\\Emo\\Desktop\\AQI_shang\\LSTM_test\\1208D_6.csv',encoding='utf-8')"
   ]
  },
  {
   "cell_type": "code",
   "execution_count": null,
   "id": "c5ba87cc",
   "metadata": {},
   "outputs": [],
   "source": []
  }
 ],
 "metadata": {
  "kernelspec": {
   "display_name": "Python 3",
   "language": "python",
   "name": "python3"
  },
  "language_info": {
   "codemirror_mode": {
    "name": "ipython",
    "version": 3
   },
   "file_extension": ".py",
   "mimetype": "text/x-python",
   "name": "python",
   "nbconvert_exporter": "python",
   "pygments_lexer": "ipython3",
   "version": "3.8.8"
  },
  "toc": {
   "base_numbering": 1,
   "nav_menu": {},
   "number_sections": true,
   "sideBar": true,
   "skip_h1_title": false,
   "title_cell": "Table of Contents",
   "title_sidebar": "Contents",
   "toc_cell": false,
   "toc_position": {},
   "toc_section_display": true,
   "toc_window_display": false
  },
  "varInspector": {
   "cols": {
    "lenName": 16,
    "lenType": 16,
    "lenVar": 40
   },
   "kernels_config": {
    "python": {
     "delete_cmd_postfix": "",
     "delete_cmd_prefix": "del ",
     "library": "var_list.py",
     "varRefreshCmd": "print(var_dic_list())"
    },
    "r": {
     "delete_cmd_postfix": ") ",
     "delete_cmd_prefix": "rm(",
     "library": "var_list.r",
     "varRefreshCmd": "cat(var_dic_list()) "
    }
   },
   "types_to_exclude": [
    "module",
    "function",
    "builtin_function_or_method",
    "instance",
    "_Feature"
   ],
   "window_display": false
  }
 },
 "nbformat": 4,
 "nbformat_minor": 5
}
