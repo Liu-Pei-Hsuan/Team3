{
 "cells": [
  {
   "cell_type": "code",
   "execution_count": 26,
   "id": "dbeb98d3",
   "metadata": {
    "ExecuteTime": {
     "end_time": "2021-12-16T16:50:06.821663Z",
     "start_time": "2021-12-16T16:50:04.540679Z"
    }
   },
   "outputs": [
    {
     "name": "stdout",
     "output_type": "stream",
     "text": [
      "日期：2021-12-16，今日本土案例1例，位於['士林區']；境外移入12例，合計13例。\n"
     ]
    }
   ],
   "source": [
    "import requests\n",
    "url = 'https://covid-19.nchc.org.tw/api/covid19?CK=covid-19@nchc.org.tw&querydata=5001&limited=全部縣市'\n",
    "res = requests.get(url)\n",
    "date = res.json()[0]['a02']\n",
    "tw = []\n",
    "twCount = 0\n",
    "others = 0\n",
    "for i in range(0,100):\n",
    "    if res.json()[i]['a02'] == date:\n",
    "        if res.json()[i]['a04'] == '空值':\n",
    "            others += 1\n",
    "        else:\n",
    "            twCount += 1\n",
    "            city = res.json()[i]['a04']\n",
    "            tw.append(city)\n",
    "    count = twCount + others\n",
    "print(f'日期：{date}，今日本土案例{twCount}例，位於{tw}；境外移入{others}例，合計{count}例。')\n",
    "    "
   ]
  },
  {
   "cell_type": "code",
   "execution_count": null,
   "id": "bf710371",
   "metadata": {},
   "outputs": [],
   "source": []
  }
 ],
 "metadata": {
  "kernelspec": {
   "display_name": "Python 3",
   "language": "python",
   "name": "python3"
  },
  "language_info": {
   "codemirror_mode": {
    "name": "ipython",
    "version": 3
   },
   "file_extension": ".py",
   "mimetype": "text/x-python",
   "name": "python",
   "nbconvert_exporter": "python",
   "pygments_lexer": "ipython3",
   "version": "3.6.13"
  },
  "toc": {
   "base_numbering": 1,
   "nav_menu": {},
   "number_sections": true,
   "sideBar": true,
   "skip_h1_title": false,
   "title_cell": "Table of Contents",
   "title_sidebar": "Contents",
   "toc_cell": false,
   "toc_position": {},
   "toc_section_display": true,
   "toc_window_display": false
  }
 },
 "nbformat": 4,
 "nbformat_minor": 5
}
